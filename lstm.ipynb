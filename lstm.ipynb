{
 "cells": [
  {
   "cell_type": "markdown",
   "metadata": {},
   "source": [
    "# LSTM Training"
   ]
  },
  {
   "cell_type": "markdown",
   "metadata": {},
   "source": [
    "## imports"
   ]
  },
  {
   "cell_type": "code",
   "execution_count": 1,
   "metadata": {},
   "outputs": [],
   "source": [
    "import numpy as np\n",
    "import re\n",
    "from IPython.display import clear_output\n",
    "\n",
    "from tensorflow.keras.layers import Dense, LSTM, Input, Embedding, Dropout\n",
    "from tensorflow.keras.utils import to_categorical\n",
    "from tensorflow.keras.models import Model, load_model\n",
    "from tensorflow.keras.optimizers import Adam, RMSprop\n",
    "from tensorflow.keras.preprocessing.sequence import pad_sequences\n",
    "from tensorflow.keras.preprocessing.text import Tokenizer\n",
    "from tensorflow.keras.callbacks import LambdaCallback"
   ]
  },
  {
   "cell_type": "code",
   "execution_count": 20,
   "metadata": {},
   "outputs": [],
   "source": [
    "load_saved_model = True\n",
    "train_model = True"
   ]
  },
  {
   "cell_type": "code",
   "execution_count": 21,
   "metadata": {},
   "outputs": [],
   "source": [
    "token_type = 'word'"
   ]
  },
  {
   "cell_type": "markdown",
   "metadata": {},
   "source": [
    "## data"
   ]
  },
  {
   "cell_type": "code",
   "execution_count": 22,
   "metadata": {},
   "outputs": [],
   "source": [
    "#load in the text and perform some cleanup\n",
    "\n",
    "seq_length = 20\n",
    "\n",
    "filename = \"./data/texto.txt\"\n",
    "\n",
    "with open(filename, encoding='utf-8-sig') as f:\n",
    "    text = f.read()"
   ]
  },
  {
   "cell_type": "code",
   "execution_count": 23,
   "metadata": {},
   "outputs": [],
   "source": [
    "start_story = '| ' * seq_length\n",
    "    \n",
    "text = start_story + text\n",
    "text = text.lower()\n",
    "text = text.replace('\\n\\n\\n\\n\\n', start_story)\n",
    "text = text.replace('\\n', ' ')\n",
    "text = re.sub('  +', '. ', text).strip()\n",
    "text = text.replace('..', '.')\n",
    "\n",
    "text = re.sub('([!\"#$%&()*+,-./:;<=>?@[\\]^_`{|}~])', r' \\1 ', text)\n",
    "text = re.sub('\\s{2,}', ' ', text)"
   ]
  },
  {
   "cell_type": "code",
   "execution_count": 24,
   "metadata": {},
   "outputs": [
    {
     "data": {
      "text/plain": [
       "3065"
      ]
     },
     "execution_count": 24,
     "metadata": {},
     "output_type": "execute_result"
    }
   ],
   "source": [
    "len(text)"
   ]
  },
  {
   "cell_type": "code",
   "execution_count": 25,
   "metadata": {},
   "outputs": [
    {
     "data": {
      "text/plain": [
       "' | | | | | | | | | | | | | | | | | | | | art . 1 . es delito toda acción u omisión voluntaria penada por la ley . las acciones u omisiones penadas por la ley se reputan siempre voluntarias , a no ser que conste lo contrario . el que cometiere delito será responsable de él e incurrirá en la pena que la ley señale , aunque el mal recaiga sobre persona distinta de aquella a quien se proponía ofender . en tal caso no se tomarán en consideración las circunstancias , no conocidas por el delincuente , que agravarían su responsabilidad ; pero sí aquellas que la atenúen . | | | | | | | | | | | | | | | | | | | | art . 2 . las acciones u omisiones que cometidas con dolo o malicia importarían un delito , constituyen cuasidelito si sólo hay culpa en el que las comete . | | | | | | | | | | | | | | | | | | | | art . 3 . los delitos , atendida su gravedad , se dividen en crímenes , simples delitos y faltas y se califican de tales según la pena que les está asignada en la escala general del art . 21 . | | | | | | | | | | | | | | | | | | | | art . 4 . la división de los delitos es aplicable a los cuasidelitos , que se califican y penan en los casos especiales que determina este código . | | | | | | | | | | | | | | | | | | | | art . 5 . la ley penal chilena es obligatoria para todos los habitantes de la república , inclusos los extranjeros . los delitos cometidos dentro del mar territorial o adyacente quedan sometidos a las prescripciones de este código . | | | | | | | | | | | | | | | | | | | | art . 6 . los crímenes o simples delitos perpetrados fuera del territorio de la república por chilenos o por extranjeros , no serán castigados en chile sino en los casos determinados por la ley . | | | | | | | | | | | | | | | | | | | | art . 7 . son punibles , no sólo el crimen o simple delito consumado , sino el frustrado y la tentativa . hay crimen o simple delito frustrado cuando el delincuente pone de su parte todo lo necesario para que el crimen o simple delito se consume y esto no se verifica por causas independientes de su voluntad . hay tentativa cuando el culpable da principio a la ejecución del crimen o simple delito por hechos directos , pero faltan uno o más para su complemento . | | | | | | | | | | | | | | | | | | | | art . 8 . la conspiración y proposición para cometer un crimen o un simple delito , sólo son punibles en los casos en que la ley las pena especialmente . la conspiración existe cuando dos o más personas se conciertan para la ejecución del crimen o simple delito . la proposición se verifica cuando el que ha resuelto cometer un crimen o un simple delito , propone su ejecución a otra u otras personas . exime de toda pena por la conspiración o proposición para cometer un crimen o un simple delito , el desistimiento de la ejecución de éstos antes de principiar a ponerlos por obra y de iniciarse procedimiento judicial contra el culpable , con tal que denuncie a la autoridad pública el plan y sus circunstancias . | | | | | | | | | | | | | | | | | | | | art . 9 . las faltas sólo se castigan cuando han sido consumadas . '"
      ]
     },
     "execution_count": 25,
     "metadata": {},
     "output_type": "execute_result"
    }
   ],
   "source": [
    "text"
   ]
  },
  {
   "cell_type": "code",
   "execution_count": 26,
   "metadata": {},
   "outputs": [],
   "source": [
    "\n",
    "if token_type == 'word':\n",
    "    tokenizer = Tokenizer(char_level = False, filters = '')\n",
    "else:\n",
    "    tokenizer = Tokenizer(char_level = True, filters = '', lower = False)\n",
    "    \n",
    "    \n",
    "tokenizer.fit_on_texts([text])\n",
    "\n",
    "total_words = len(tokenizer.word_index) + 1\n",
    "\n",
    "token_list = tokenizer.texts_to_sequences([text])[0]\n"
   ]
  },
  {
   "cell_type": "code",
   "execution_count": 27,
   "metadata": {},
   "outputs": [
    {
     "data": {
      "text/plain": [
       "205"
      ]
     },
     "execution_count": 27,
     "metadata": {},
     "output_type": "execute_result"
    }
   ],
   "source": [
    "total_words"
   ]
  },
  {
   "cell_type": "code",
   "execution_count": 28,
   "metadata": {
    "scrolled": true
   },
   "outputs": [
    {
     "name": "stdout",
     "output_type": "stream",
     "text": [
      "688\n",
      "{'|': 1, '.': 2, 'la': 3, ',': 4, 'o': 5, 'que': 6, 'de': 7, 'el': 8, 'delito': 9, 'se': 10, 'en': 11, 'art': 12, 'por': 13, 'los': 14, 'a': 15, 'y': 16, 'crimen': 17, 'simple': 18, 'las': 19, 'un': 20, 'ley': 21, 'no': 22, 'su': 23, 'para': 24, 'delitos': 25, 'del': 26, 'cuando': 27, 'u': 28, 'pena': 29, 'sólo': 30, 'ejecución': 31, 'es': 32, 'hay': 33, 'casos': 34, 'conspiración': 35, 'proposición': 36, 'cometer': 37, 'toda': 38, 'acciones': 39, 'omisiones': 40, 'lo': 41, 'tal': 42, 'circunstancias': 43, 'delincuente': 44, 'pero': 45, 'con': 46, 'crímenes': 47, 'simples': 48, 'faltas': 49, 'califican': 50, 'este': 51, 'código': 52, 'república': 53, 'extranjeros': 54, 'sino': 55, 'son': 56, 'punibles': 57, 'frustrado': 58, 'tentativa': 59, 'verifica': 60, 'culpable': 61, 'más': 62, 'personas': 63, '1': 64, 'acción': 65, 'omisión': 66, 'voluntaria': 67, 'penada': 68, 'penadas': 69, 'reputan': 70, 'siempre': 71, 'voluntarias': 72, 'ser': 73, 'conste': 74, 'contrario': 75, 'cometiere': 76, 'será': 77, 'responsable': 78, 'él': 79, 'e': 80, 'incurrirá': 81, 'señale': 82, 'aunque': 83, 'mal': 84, 'recaiga': 85, 'sobre': 86, 'persona': 87, 'distinta': 88, 'aquella': 89, 'quien': 90, 'proponía': 91, 'ofender': 92, 'caso': 93, 'tomarán': 94, 'consideración': 95, 'conocidas': 96, 'agravarían': 97, 'responsabilidad': 98, ';': 99, 'sí': 100, 'aquellas': 101, 'atenúen': 102, '2': 103, 'cometidas': 104, 'dolo': 105, 'malicia': 106, 'importarían': 107, 'constituyen': 108, 'cuasidelito': 109, 'si': 110, 'culpa': 111, 'comete': 112, '3': 113, 'atendida': 114, 'gravedad': 115, 'dividen': 116, 'tales': 117, 'según': 118, 'les': 119, 'está': 120, 'asignada': 121, 'escala': 122, 'general': 123, '21': 124, '4': 125, 'división': 126, 'aplicable': 127, 'cuasidelitos': 128, 'penan': 129, 'especiales': 130, 'determina': 131, '5': 132, 'penal': 133, 'chilena': 134, 'obligatoria': 135, 'todos': 136, 'habitantes': 137, 'inclusos': 138, 'cometidos': 139, 'dentro': 140, 'mar': 141, 'territorial': 142, 'adyacente': 143, 'quedan': 144, 'sometidos': 145, 'prescripciones': 146, '6': 147, 'perpetrados': 148, 'fuera': 149, 'territorio': 150, 'chilenos': 151, 'serán': 152, 'castigados': 153, 'chile': 154, 'determinados': 155, '7': 156, 'consumado': 157, 'pone': 158, 'parte': 159, 'todo': 160, 'necesario': 161, 'consume': 162, 'esto': 163, 'causas': 164, 'independientes': 165, 'voluntad': 166, 'da': 167, 'principio': 168, 'hechos': 169, 'directos': 170, 'faltan': 171, 'uno': 172, 'complemento': 173, '8': 174, 'especialmente': 175, 'existe': 176, 'dos': 177, 'conciertan': 178, 'ha': 179, 'resuelto': 180, 'propone': 181, 'otra': 182, 'otras': 183, 'exime': 184, 'desistimiento': 185, 'éstos': 186, 'antes': 187, 'principiar': 188, 'ponerlos': 189, 'obra': 190, 'iniciarse': 191, 'procedimiento': 192, 'judicial': 193, 'contra': 194, 'denuncie': 195, 'autoridad': 196, 'pública': 197, 'plan': 198, 'sus': 199, '9': 200, 'castigan': 201, 'han': 202, 'sido': 203, 'consumadas': 204}\n",
      "[1, 1, 1, 1, 1, 1, 1, 1, 1, 1, 1, 1, 1, 1, 1, 1, 1, 1, 1, 1, 12, 2, 64, 2, 32, 9, 38, 65, 28, 66, 67, 68, 13, 3, 21, 2, 19, 39, 28, 40, 69, 13, 3, 21, 10, 70, 71, 72, 4, 15, 22, 73, 6, 74, 41, 75, 2, 8, 6, 76, 9, 77, 78, 7, 79, 80, 81, 11, 3, 29, 6, 3, 21, 82, 4, 83, 8, 84, 85, 86, 87, 88, 7, 89, 15, 90, 10, 91, 92, 2, 11, 42, 93, 22, 10, 94, 11, 95, 19, 43, 4, 22, 96, 13, 8, 44, 4, 6, 97, 23, 98, 99, 45, 100, 101, 6, 3, 102, 2, 1, 1, 1, 1, 1, 1, 1, 1, 1, 1, 1, 1, 1, 1, 1, 1, 1, 1, 1, 1, 12, 2, 103, 2, 19, 39, 28, 40, 6, 104, 46, 105, 5, 106, 107, 20, 9, 4, 108, 109, 110, 30, 33, 111, 11, 8, 6, 19, 112, 2, 1, 1, 1, 1, 1, 1, 1, 1, 1, 1, 1, 1, 1, 1, 1, 1, 1, 1, 1, 1, 12, 2, 113, 2, 14, 25, 4, 114, 23, 115, 4, 10, 116, 11, 47, 4, 48, 25, 16, 49, 16, 10, 50, 7, 117, 118, 3, 29, 6, 119, 120, 121, 11, 3, 122, 123, 26, 12, 2, 124, 2, 1, 1, 1, 1, 1, 1, 1, 1, 1, 1, 1, 1, 1, 1, 1, 1, 1, 1, 1, 1, 12, 2, 125, 2, 3, 126, 7, 14, 25, 32, 127, 15, 14, 128, 4, 6, 10, 50, 16, 129, 11, 14, 34, 130, 6, 131, 51, 52, 2, 1, 1, 1, 1, 1, 1, 1, 1, 1, 1, 1, 1, 1, 1, 1, 1, 1, 1, 1, 1, 12, 2, 132, 2, 3, 21, 133, 134, 32, 135, 24, 136, 14, 137, 7, 3, 53, 4, 138, 14, 54, 2, 14, 25, 139, 140, 26, 141, 142, 5, 143, 144, 145, 15, 19, 146, 7, 51, 52, 2, 1, 1, 1, 1, 1, 1, 1, 1, 1, 1, 1, 1, 1, 1, 1, 1, 1, 1, 1, 1, 12, 2, 147, 2, 14, 47, 5, 48, 25, 148, 149, 26, 150, 7, 3, 53, 13, 151, 5, 13, 54, 4, 22, 152, 153, 11, 154, 55, 11, 14, 34, 155, 13, 3, 21, 2, 1, 1, 1, 1, 1, 1, 1, 1, 1, 1, 1, 1, 1, 1, 1, 1, 1, 1, 1, 1, 12, 2, 156, 2, 56, 57, 4, 22, 30, 8, 17, 5, 18, 9, 157, 4, 55, 8, 58, 16, 3, 59, 2, 33, 17, 5, 18, 9, 58, 27, 8, 44, 158, 7, 23, 159, 160, 41, 161, 24, 6, 8, 17, 5, 18, 9, 10, 162, 16, 163, 22, 10, 60, 13, 164, 165, 7, 23, 166, 2, 33, 59, 27, 8, 61, 167, 168, 15, 3, 31, 26, 17, 5, 18, 9, 13, 169, 170, 4, 45, 171, 172, 5, 62, 24, 23, 173, 2, 1, 1, 1, 1, 1, 1, 1, 1, 1, 1, 1, 1, 1, 1, 1, 1, 1, 1, 1, 1, 12, 2, 174, 2, 3, 35, 16, 36, 24, 37, 20, 17, 5, 20, 18, 9, 4, 30, 56, 57, 11, 14, 34, 11, 6, 3, 21, 19, 29, 175, 2, 3, 35, 176, 27, 177, 5, 62, 63, 10, 178, 24, 3, 31, 26, 17, 5, 18, 9, 2, 3, 36, 10, 60, 27, 8, 6, 179, 180, 37, 20, 17, 5, 20, 18, 9, 4, 181, 23, 31, 15, 182, 28, 183, 63, 2, 184, 7, 38, 29, 13, 3, 35, 5, 36, 24, 37, 20, 17, 5, 20, 18, 9, 4, 8, 185, 7, 3, 31, 7, 186, 187, 7, 188, 15, 189, 13, 190, 16, 7, 191, 192, 193, 194, 8, 61, 4, 46, 42, 6, 195, 15, 3, 196, 197, 8, 198, 16, 199, 43, 2, 1, 1, 1, 1, 1, 1, 1, 1, 1, 1, 1, 1, 1, 1, 1, 1, 1, 1, 1, 1, 12, 2, 200, 2, 19, 49, 30, 10, 201, 27, 202, 203, 204, 2]\n"
     ]
    }
   ],
   "source": [
    "print(len(token_list))\n",
    "print(tokenizer.word_index)\n",
    "print(token_list)"
   ]
  },
  {
   "cell_type": "code",
   "execution_count": 29,
   "metadata": {},
   "outputs": [
    {
     "name": "stdout",
     "output_type": "stream",
     "text": [
      "Number of sequences: 668 \n",
      "\n"
     ]
    }
   ],
   "source": [
    "def generate_sequences(token_list, step):\n",
    "    \n",
    "    X = []\n",
    "    y = []\n",
    "\n",
    "    for i in range(0, len(token_list) - seq_length, step):\n",
    "        X.append(token_list[i: i + seq_length])\n",
    "        y.append(token_list[i + seq_length])\n",
    "    \n",
    "\n",
    "    y = to_categorical(y, num_classes = total_words)\n",
    "    \n",
    "    num_seq = len(X)\n",
    "    print('Number of sequences:', num_seq, \"\\n\")\n",
    "    \n",
    "    return X, y, num_seq\n",
    "\n",
    "step = 1\n",
    "seq_length = 20\n",
    "\n",
    "X, y, num_seq = generate_sequences(token_list, step)\n",
    "\n",
    "X = np.array(X)\n",
    "y = np.array(y)\n"
   ]
  },
  {
   "cell_type": "code",
   "execution_count": 30,
   "metadata": {},
   "outputs": [
    {
     "data": {
      "text/plain": [
       "(668, 20)"
      ]
     },
     "execution_count": 30,
     "metadata": {},
     "output_type": "execute_result"
    }
   ],
   "source": [
    "X.shape"
   ]
  },
  {
   "cell_type": "code",
   "execution_count": 31,
   "metadata": {},
   "outputs": [
    {
     "data": {
      "text/plain": [
       "(668, 205)"
      ]
     },
     "execution_count": 31,
     "metadata": {},
     "output_type": "execute_result"
    }
   ],
   "source": [
    "y.shape"
   ]
  },
  {
   "cell_type": "markdown",
   "metadata": {},
   "source": [
    "## Define the LSTM model"
   ]
  },
  {
   "cell_type": "code",
   "execution_count": 32,
   "metadata": {},
   "outputs": [],
   "source": [
    "if load_saved_model:\n",
    "    model = load_model('./saved_models/epoch300_batch-size128.h5')\n",
    "\n",
    "else:\n",
    "\n",
    "    n_units = 256\n",
    "    embedding_size = 100\n",
    "\n",
    "    text_in = Input(shape = (None,))\n",
    "    embedding = Embedding(total_words, embedding_size)\n",
    "    x = embedding(text_in)\n",
    "    x = LSTM(n_units)(x)\n",
    "    text_out = Dense(total_words, activation = 'softmax')(x)\n",
    "\n",
    "    model = Model(text_in, text_out)\n",
    "\n",
    "    opti = RMSprop(learning_rate = 0.001)\n",
    "    model.compile(loss='categorical_crossentropy', optimizer=opti)"
   ]
  },
  {
   "cell_type": "code",
   "execution_count": 33,
   "metadata": {},
   "outputs": [
    {
     "name": "stdout",
     "output_type": "stream",
     "text": [
      "Model: \"model_2\"\n",
      "_________________________________________________________________\n",
      " Layer (type)                Output Shape              Param #   \n",
      "=================================================================\n",
      " input_3 (InputLayer)        [(None, None)]            0         \n",
      "                                                                 \n",
      " embedding_2 (Embedding)     (None, None, 100)         20500     \n",
      "                                                                 \n",
      " lstm_2 (LSTM)               (None, 256)               365568    \n",
      "                                                                 \n",
      " dense_2 (Dense)             (None, 205)               52685     \n",
      "                                                                 \n",
      "=================================================================\n",
      "Total params: 438,753\n",
      "Trainable params: 438,753\n",
      "Non-trainable params: 0\n",
      "_________________________________________________________________\n"
     ]
    }
   ],
   "source": [
    "model.summary()"
   ]
  },
  {
   "cell_type": "code",
   "execution_count": 34,
   "metadata": {},
   "outputs": [],
   "source": [
    "def sample_with_temp(preds, temperature=1.0):\n",
    "    # helper function to sample an index from a probability array\n",
    "    preds = np.asarray(preds).astype('float64')\n",
    "    preds = np.log(preds) / temperature\n",
    "    exp_preds = np.exp(preds)\n",
    "    preds = exp_preds / np.sum(exp_preds)\n",
    "    probas = np.random.multinomial(1, preds, 1)\n",
    "    return np.argmax(probas)\n",
    "\n",
    "\n",
    "\n",
    "def generate_text(seed_text, next_words, model, max_sequence_len, temp):\n",
    "    output_text = seed_text\n",
    "    \n",
    "    seed_text = start_story + seed_text\n",
    "    \n",
    "    for _ in range(next_words):\n",
    "        token_list = tokenizer.texts_to_sequences([seed_text])[0]\n",
    "        token_list = token_list[-max_sequence_len:]\n",
    "        token_list = np.reshape(token_list, (1, max_sequence_len))\n",
    "        \n",
    "        probs = model.predict(token_list, verbose=0)[0]\n",
    "        y_class = sample_with_temp(probs, temperature = temp)\n",
    "        \n",
    "        if y_class == 0:\n",
    "            output_word = ''\n",
    "        else:\n",
    "            output_word = tokenizer.index_word[y_class]\n",
    "            \n",
    "        if output_word == \"|\":\n",
    "            break\n",
    "            \n",
    "        if token_type == 'word':\n",
    "            output_text += output_word + ' '\n",
    "            seed_text += output_word + ' '\n",
    "        else:\n",
    "            output_text += output_word + ' '\n",
    "            seed_text += output_word + ' '\n",
    "            \n",
    "            \n",
    "    return output_text"
   ]
  },
  {
   "cell_type": "code",
   "execution_count": null,
   "metadata": {},
   "outputs": [],
   "source": [
    "def on_epoch_end(epoch, logs):\n",
    "    seed_text = \"\"\n",
    "    gen_words = 500\n",
    "\n",
    "    print('Temp 0.2')\n",
    "    print (generate_text(seed_text, gen_words, model, seq_length, temp = 0.2))\n",
    "    print('Temp 0.33')\n",
    "    print (generate_text(seed_text, gen_words, model, seq_length, temp = 0.33))\n",
    "    print('Temp 0.5')\n",
    "    print (generate_text(seed_text, gen_words, model, seq_length, temp = 0.5))\n",
    "    print('Temp 1.0')\n",
    "    print (generate_text(seed_text, gen_words, model, seq_length, temp = 1))\n",
    "\n",
    "    \n",
    "    \n",
    "if train_model:\n",
    "    epochs = 1000\n",
    "    batch_size = 64\n",
    "    num_batches = int(len(X) / batch_size)\n",
    "    callback = LambdaCallback(on_epoch_end=on_epoch_end)\n",
    "    model.fit(X, y, epochs=epochs, batch_size=batch_size, callbacks = [callback], shuffle = True)"
   ]
  },
  {
   "cell_type": "code",
   "execution_count": 20,
   "metadata": {},
   "outputs": [
    {
     "name": "stdout",
     "output_type": "stream",
     "text": [
      "Model: \"model\"\n",
      "_________________________________________________________________\n",
      "Layer (type)                 Output Shape              Param #   \n",
      "=================================================================\n",
      "input_1 (InputLayer)         [(None, None)]            0         \n",
      "_________________________________________________________________\n",
      "embedding (Embedding)        (None, None, 100)         20500     \n",
      "_________________________________________________________________\n",
      "lstm (LSTM)                  (None, 256)               365568    \n",
      "_________________________________________________________________\n",
      "dense (Dense)                (None, 205)               52685     \n",
      "=================================================================\n",
      "Total params: 438,753\n",
      "Trainable params: 438,753\n",
      "Non-trainable params: 0\n",
      "_________________________________________________________________\n"
     ]
    }
   ],
   "source": [
    "model.summary()"
   ]
  },
  {
   "cell_type": "code",
   "execution_count": 41,
   "metadata": {
    "scrolled": false
   },
   "outputs": [
    {
     "name": "stdout",
     "output_type": "stream",
     "text": [
      "cuando es penado un delito . 9 . las faltas sólo se castigan cuando han sido consumadas . las inclusos se cometidos el iniciarse a \n",
      "cuando es penado un delito . 3 . los delitos , atendida su gravedad , los cuasidelitos , simples delitos y crimen o . directos \n",
      "cuando es penado un delito . 3 . los delitos , atendida , gravedad , en crímenes , simples delitos y o obra obra califican \n"
     ]
    }
   ],
   "source": [
    "seed_text = \"cuando es penado un delito \"\n",
    "gen_words = 20\n",
    "temp = 1\n",
    "\n",
    "print (generate_text(seed_text, gen_words, model, seq_length, temp))\n",
    "print (generate_text(seed_text, gen_words, model, seq_length, temp))\n",
    "print (generate_text(seed_text, gen_words, model, seq_length, temp))"
   ]
  },
  {
   "cell_type": "markdown",
   "metadata": {},
   "source": [
    "## Guardar modelo"
   ]
  },
  {
   "cell_type": "code",
   "execution_count": 22,
   "metadata": {},
   "outputs": [],
   "source": [
    "model.save('./saved_models/prueba1.h5')"
   ]
  },
  {
   "cell_type": "markdown",
   "metadata": {},
   "source": [
    "## Generar secuencias para la generación de texto sintético a partir de un artículo"
   ]
  },
  {
   "cell_type": "code",
   "execution_count": 107,
   "metadata": {},
   "outputs": [
    {
     "name": "stdout",
     "output_type": "stream",
     "text": [
      "Number of sequences: 137 \n",
      "\n"
     ]
    }
   ],
   "source": [
    "def sequences_for_generation(token_list, step):\n",
    "    \n",
    "    X = []\n",
    "\n",
    "    for i in range(0, len(token_list) - seq_length, step):\n",
    "        X.append(token_list[i: i + seq_length])\n",
    "    \n",
    "    num_seq = len(X)\n",
    "    print('Number of sequences:', num_seq, \"\\n\")\n",
    "    \n",
    "    return X, num_seq\n",
    "\n",
    "step = 5\n",
    "seq_length = 5\n",
    "\n",
    "X, num_seq = sequences_for_generation(token_list, step)\n",
    "\n",
    "#X = np.array(X)"
   ]
  },
  {
   "cell_type": "code",
   "execution_count": 52,
   "metadata": {},
   "outputs": [
    {
     "name": "stdout",
     "output_type": "stream",
     "text": [
      "[1, 1, 1, 1, 1, 1, 1, 1, 1, 1, 1, 1, 1, 1, 1, 1, 1, 1, 1, 1, 12, 2, 64, 2, 32, 9, 38, 65, 28, 66, 67, 68, 13, 3, 21, 2, 19, 39, 28, 40, 69, 13, 3, 21, 10, 70, 71, 72, 4, 15, 22, 73, 6, 74, 41, 75, 2, 8, 6, 76, 9, 77, 78, 7, 79, 80, 81, 11, 3, 29, 6, 3, 21, 82, 4, 83, 8, 84, 85, 86, 87, 88, 7, 89, 15, 90, 10, 91, 92, 2, 11, 42, 93, 22, 10, 94, 11, 95, 19, 43, 4, 22, 96, 13, 8, 44, 4, 6, 97, 23, 98, 99, 45, 100, 101, 6, 3, 102, 2, 1, 1, 1, 1, 1, 1, 1, 1, 1, 1, 1, 1, 1, 1, 1, 1, 1, 1, 1, 1, 12, 2, 103, 2, 19, 39, 28, 40, 6, 104, 46, 105, 5, 106, 107, 20, 9, 4, 108, 109, 110, 30, 33, 111, 11, 8, 6, 19, 112, 2, 1, 1, 1, 1, 1, 1, 1, 1, 1, 1, 1, 1, 1, 1, 1, 1, 1, 1, 1, 1, 12, 2, 113, 2, 14, 25, 4, 114, 23, 115, 4, 10, 116, 11, 47, 4, 48, 25, 16, 49, 16, 10, 50, 7, 117, 118, 3, 29, 6, 119, 120, 121, 11, 3, 122, 123, 26, 12, 2, 124, 2, 1, 1, 1, 1, 1, 1, 1, 1, 1, 1, 1, 1, 1, 1, 1, 1, 1, 1, 1, 1, 12, 2, 125, 2, 3, 126, 7, 14, 25, 32, 127, 15, 14, 128, 4, 6, 10, 50, 16, 129, 11, 14, 34, 130, 6, 131, 51, 52, 2, 1, 1, 1, 1, 1, 1, 1, 1, 1, 1, 1, 1, 1, 1, 1, 1, 1, 1, 1, 1, 12, 2, 132, 2, 3, 21, 133, 134, 32, 135, 24, 136, 14, 137, 7, 3, 53, 4, 138, 14, 54, 2, 14, 25, 139, 140, 26, 141, 142, 5, 143, 144, 145, 15, 19, 146, 7, 51, 52, 2, 1, 1, 1, 1, 1, 1, 1, 1, 1, 1, 1, 1, 1, 1, 1, 1, 1, 1, 1, 1, 12, 2, 147, 2, 14, 47, 5, 48, 25, 148, 149, 26, 150, 7, 3, 53, 13, 151, 5, 13, 54, 4, 22, 152, 153, 11, 154, 55, 11, 14, 34, 155, 13, 3, 21, 2, 1, 1, 1, 1, 1, 1, 1, 1, 1, 1, 1, 1, 1, 1, 1, 1, 1, 1, 1, 1, 12, 2, 156, 2, 56, 57, 4, 22, 30, 8, 17, 5, 18, 9, 157, 4, 55, 8, 58, 16, 3, 59, 2, 33, 17, 5, 18, 9, 58, 27, 8, 44, 158, 7, 23, 159, 160, 41, 161, 24, 6, 8, 17, 5, 18, 9, 10, 162, 16, 163, 22, 10, 60, 13, 164, 165, 7, 23, 166, 2, 33, 59, 27, 8, 61, 167, 168, 15, 3, 31, 26, 17, 5, 18, 9, 13, 169, 170, 4, 45, 171, 172, 5, 62, 24, 23, 173, 2, 1, 1, 1, 1, 1, 1, 1, 1, 1, 1, 1, 1, 1, 1, 1, 1, 1, 1, 1, 1, 12, 2, 174, 2, 3, 35, 16, 36, 24, 37, 20, 17, 5, 20, 18, 9, 4, 30, 56, 57, 11, 14, 34, 11, 6, 3, 21, 19, 29, 175, 2, 3, 35, 176, 27, 177, 5, 62, 63, 10, 178, 24, 3, 31, 26, 17, 5, 18, 9, 2, 3, 36, 10, 60, 27, 8, 6, 179, 180, 37, 20, 17, 5, 20, 18, 9, 4, 181, 23, 31, 15, 182, 28, 183, 63, 2, 184, 7, 38, 29, 13, 3, 35, 5, 36, 24, 37, 20, 17, 5, 20, 18, 9, 4, 8, 185, 7, 3, 31, 7, 186, 187, 7, 188, 15, 189, 13, 190, 16, 7, 191, 192, 193, 194, 8, 61, 4, 46, 42, 6, 195, 15, 3, 196, 197, 8, 198, 16, 199, 43, 2, 1, 1, 1, 1, 1, 1, 1, 1, 1, 1, 1, 1, 1, 1, 1, 1, 1, 1, 1, 1, 12, 2, 200, 2, 19, 49, 30, 10, 201, 27, 202, 203, 204, 2]\n"
     ]
    }
   ],
   "source": [
    "print(token_list)"
   ]
  },
  {
   "cell_type": "code",
   "execution_count": 94,
   "metadata": {},
   "outputs": [],
   "source": [
    "c = 0\n",
    "i = 0\n",
    "while c < 7:\n",
    "    pos = token_list[i:].index(1)\n",
    "    c = c + 1\n",
    "    i = i + pos + 20"
   ]
  },
  {
   "cell_type": "code",
   "execution_count": 100,
   "metadata": {},
   "outputs": [],
   "source": [
    "end7 = i + token_list[i:].index(1)"
   ]
  },
  {
   "cell_type": "code",
   "execution_count": 116,
   "metadata": {},
   "outputs": [
    {
     "name": "stdout",
     "output_type": "stream",
     "text": [
      "Number of sequences: 17 \n",
      "\n"
     ]
    }
   ],
   "source": [
    "seq, seq_n = sequences_for_generation([list(t.keys())[list(t.values()).index(x)] for x in token_list[i:end7]], step)"
   ]
  },
  {
   "cell_type": "code",
   "execution_count": 117,
   "metadata": {},
   "outputs": [
    {
     "data": {
      "text/plain": [
       "['art . 7 . son',\n",
       " 'punibles , no sólo el',\n",
       " 'crimen o simple delito consumado',\n",
       " ', sino el frustrado y',\n",
       " 'la tentativa . hay crimen',\n",
       " 'o simple delito frustrado cuando',\n",
       " 'el delincuente pone de su',\n",
       " 'parte todo lo necesario para',\n",
       " 'que el crimen o simple',\n",
       " 'delito se consume y esto',\n",
       " 'no se verifica por causas',\n",
       " 'independientes de su voluntad .',\n",
       " 'hay tentativa cuando el culpable',\n",
       " 'da principio a la ejecución',\n",
       " 'del crimen o simple delito',\n",
       " 'por hechos directos , pero',\n",
       " 'faltan uno o más para']"
      ]
     },
     "execution_count": 117,
     "metadata": {},
     "output_type": "execute_result"
    }
   ],
   "source": [
    "[' '.join(x) for x in seq]"
   ]
  },
  {
   "cell_type": "code",
   "execution_count": 153,
   "metadata": {},
   "outputs": [
    {
     "name": "stdout",
     "output_type": "stream",
     "text": [
      "Number of sequences: 14 \n",
      "\n"
     ]
    }
   ],
   "source": [
    "seq_length = 5\n",
    "seq, seq_n = sequences_for_generation([list(t.keys())[list(t.values()).index(x)] for x in art1], 5)"
   ]
  },
  {
   "cell_type": "code",
   "execution_count": 154,
   "metadata": {},
   "outputs": [
    {
     "data": {
      "text/plain": [
       "[['art', '.', '1', '.', 'es'],\n",
       " ['delito', 'toda', 'acción', 'u', 'omisión'],\n",
       " ['voluntaria', 'penada', 'por', 'la', 'ley'],\n",
       " ['.', 'las', 'acciones', 'u', 'omisiones'],\n",
       " ['penadas', 'por', 'la', 'ley', 'se'],\n",
       " ['reputan', 'siempre', 'voluntarias', ',', 'a'],\n",
       " ['no', 'ser', 'que', 'conste', 'lo'],\n",
       " ['contrario', '.', 'el', 'que', 'cometiere'],\n",
       " ['delito', 'será', 'responsable', 'de', 'él'],\n",
       " ['e', 'incurrirá', 'en', 'la', 'pena'],\n",
       " ['que', 'la', 'ley', 'señale', ','],\n",
       " ['aunque', 'el', 'mal', 'recaiga', 'sobre'],\n",
       " ['persona', 'distinta', 'de', 'aquella', 'a'],\n",
       " ['quien', 'se', 'proponía', 'ofender', '.']]"
      ]
     },
     "execution_count": 154,
     "metadata": {},
     "output_type": "execute_result"
    }
   ],
   "source": [
    "seq"
   ]
  },
  {
   "cell_type": "code",
   "execution_count": 155,
   "metadata": {},
   "outputs": [
    {
     "data": {
      "text/plain": [
       "['art . 1 . es',\n",
       " 'delito toda acción u omisión',\n",
       " 'voluntaria penada por la ley',\n",
       " '. las acciones u omisiones',\n",
       " 'penadas por la ley se',\n",
       " 'reputan siempre voluntarias , a',\n",
       " 'no ser que conste lo',\n",
       " 'contrario . el que cometiere',\n",
       " 'delito será responsable de él',\n",
       " 'e incurrirá en la pena',\n",
       " 'que la ley señale ,',\n",
       " 'aunque el mal recaiga sobre',\n",
       " 'persona distinta de aquella a',\n",
       " 'quien se proponía ofender .']"
      ]
     },
     "execution_count": 155,
     "metadata": {},
     "output_type": "execute_result"
    }
   ],
   "source": [
    "[' '.join(x) for x in seq]"
   ]
  },
  {
   "cell_type": "markdown",
   "metadata": {},
   "source": [
    "## Generación de texto sintético a partir de artículos del código penal vigente de Chile"
   ]
  },
  {
   "cell_type": "code",
   "execution_count": 54,
   "metadata": {},
   "outputs": [],
   "source": [
    "art1 = ['art . 1 . es',\n",
    " 'delito toda acción u omisión',\n",
    " 'voluntaria penada por la ley',\n",
    " '. las acciones u omisiones',\n",
    " 'penadas por la ley se',\n",
    " 'reputan siempre voluntarias , a',\n",
    " 'no ser que conste lo',\n",
    " 'contrario . el que cometiere',\n",
    " 'delito será responsable de él',\n",
    " 'e incurrirá en la pena',\n",
    " 'que la ley señale ,',\n",
    " 'aunque el mal recaiga sobre',\n",
    " 'persona distinta de aquella a',\n",
    " 'quien se proponía ofender .']\n",
    "art7 = ['art . 7 . son',\n",
    " 'punibles , no sólo el',\n",
    " 'crimen o simple delito consumado',\n",
    " ', sino el frustrado y',\n",
    " 'la tentativa . hay crimen',\n",
    " 'o simple delito frustrado cuando',\n",
    " 'el delincuente pone de su',\n",
    " 'parte todo lo necesario para',\n",
    " 'que el crimen o simple',\n",
    " 'delito se consume y esto',\n",
    " 'no se verifica por causas',\n",
    " 'independientes de su voluntad .',\n",
    " 'hay tentativa cuando el culpable',\n",
    " 'da principio a la ejecución',\n",
    " 'del crimen o simple delito',\n",
    " 'por hechos directos , pero',\n",
    " 'faltan uno o más para']"
   ]
  },
  {
   "cell_type": "code",
   "execution_count": 44,
   "metadata": {},
   "outputs": [
    {
     "name": "stdout",
     "output_type": "stream",
     "text": [
      "- art . 1 . esdelito es delito toda acción u omisión voluntaria penada por la ley . las acciones u omisiones penadas por la \n",
      "- delito toda acción u omisiónfaltas las faltas sólo se castigan cuando han sido consumadas . las acciones . las delincuente el responsabilidad responsabilidad quedan \n",
      "- voluntaria penada por la ley. . la ley penal chilena es obligatoria para todos los habitantes de la república , inclusos lo ser de \n",
      "- . las acciones u omisiones. 1 . es delito toda acción u omisión voluntaria penada por la república por acciones u contrario por no \n",
      "- penadas por la ley sees . la conspiración y proposición para cometer un crimen o un simple delito , sólo son la la éstos \n",
      "- reputan siempre voluntarias , au acciones u omisiones que cometidas con dolo o malicia importarían un delito , constituyen , chile ; pero el \n",
      "- no ser que conste loes . es delito toda acción u omisión voluntaria penada por la república por acciones u omisiones que la la \n",
      "- contrario . el que cometiere. la ley penal chilena es obligatoria para todos los habitantes de la república , inclusos los procedimiento los delitos \n",
      "- delito será responsable de élla . la conspiración y proposición crimen o crimen o simple delito consumado , el frustrado y todo todo cuando \n",
      "- e incurrirá en la penala . la ley penal chilena es obligatoria para todos los habitantes de la república inclusos los principio obra conocidas \n",
      "- que la ley señale ,. . la división de los delitos es aplicable a los cuasidelitos , que califican califican se pena que la \n",
      "- aunque el mal recaiga sobre. . 1 . es delito para acción cuando han sido consumadas . las acciones , y por la pena \n",
      "- persona distinta de aquella a. . la ley penal chilena es obligatoria para todos los habitantes de la república , inclusos . obra . \n",
      "- quien se proponía ofender .los . los crímenes o simples delitos perpetrados fuera del territorio de la república por chilenos omisiones mal delincuente , \n"
     ]
    }
   ],
   "source": [
    "for seed in art1:\n",
    "    print ('- ' + generate_text(seed, gen_words, model, seq_length, temp))"
   ]
  },
  {
   "cell_type": "code",
   "execution_count": 46,
   "metadata": {},
   "outputs": [
    {
     "name": "stdout",
     "output_type": "stream",
     "text": [
      "- art . 7 . sonpunibles son punibles , no sólo el crimen o simple delito consumado , sino el frustrado y la tentativa . \n",
      "- punibles , no sólo el. 8 . la conspiración y proposición para cometer un crimen o un simple delito , son crimen delito , \n",
      "- crimen o simple delito consumado5 . 9 . las faltas sólo se castigan cuando han sido consumadas . las acciones , ley procedimiento independientes \n",
      "- , sino el frustrado yes . los delitos , atendida su gravedad , se dividen en crímenes , simples delitos y del distinta califican \n",
      "- la tentativa . hay crimenla . la conspiración y proposición para cometer un crimen o un simple delito , frustrado y en en los \n",
      "- o simple delito frustrado cuando. 9 . las faltas sólo se castigan cuando han sido consumadas . las acciones y , aunque sobre él \n",
      "- el delincuente pone de su9 . 7 . son punibles , no sólo el simple delito consumado , sino el frustrado cuando frustrado cuando \n",
      "- parte todo lo necesario paralos . los crímenes o simples delitos perpetrados fuera del territorio de la república por y por independientes de , \n",
      "- que el crimen o simplela . 4 . la ley penal chilena es obligatoria para todos de la república , e crimen o simple \n",
      "- delito se consume y estoacciones es delito toda acción u omisión voluntaria penada por la ley . las acciones , procedimiento iniciarse iniciarse a \n",
      "- no se verifica por causasla . la división de los delitos es aplicable a los cuasidelitos , que califican y penan tal caso . \n",
      "- independientes de su voluntad .los . la ley penal chilena es obligatoria para todos los habitantes de de república , inclusos por por por \n",
      "- hay tentativa cuando el culpablela . la ley de los delitos es aplicable los cuasidelitos , que se califican y penan faltan uno \n",
      "- da principio a la ejecuciónla . la conspiración y proposición para cometer un crimen o un simple delito , sólo o necesario . ejecución \n",
      "- del crimen o simple delito. art . 7 . son punibles sólo el crimen o simple delito consumado , sino el cuando el verifica \n",
      "- por hechos directos , pero2 . 9 . las faltas sólo se castigan cuando han sido consumadas . las acciones y sobre delitos delitos \n",
      "- faltan uno o más para. . 3 . los delitos , atendida su gravedad , en crímenes , sino el frustrado simple delito , \n"
     ]
    }
   ],
   "source": [
    "for seed in art7:\n",
    "    print ('- ' + generate_text(seed, gen_words, model, seq_length, temp))"
   ]
  }
 ],
 "metadata": {
  "kernelspec": {
   "display_name": "Python 3",
   "language": "python",
   "name": "python3"
  },
  "language_info": {
   "codemirror_mode": {
    "name": "ipython",
    "version": 3
   },
   "file_extension": ".py",
   "mimetype": "text/x-python",
   "name": "python",
   "nbconvert_exporter": "python",
   "pygments_lexer": "ipython3",
   "version": "3.8.10"
  }
 },
 "nbformat": 4,
 "nbformat_minor": 2
}
