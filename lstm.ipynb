{
 "cells": [
  {
   "cell_type": "markdown",
   "metadata": {},
   "source": [
    "# LSTM Training"
   ]
  },
  {
   "cell_type": "markdown",
   "metadata": {},
   "source": [
    "## imports"
   ]
  },
  {
   "cell_type": "code",
   "execution_count": 1,
   "metadata": {},
   "outputs": [],
   "source": [
    "import numpy as np\n",
    "import re\n",
    "from IPython.display import clear_output\n",
    "\n",
    "from tensorflow.keras.layers import Dense, LSTM, Input, Embedding, Dropout\n",
    "from tensorflow.keras.utils import to_categorical\n",
    "from tensorflow.keras.models import Model, load_model\n",
    "from tensorflow.keras.optimizers import Adam, RMSprop\n",
    "from tensorflow.keras.preprocessing.sequence import pad_sequences\n",
    "from tensorflow.keras.preprocessing.text import Tokenizer\n",
    "from tensorflow.keras.callbacks import LambdaCallback"
   ]
  },
  {
   "cell_type": "code",
   "execution_count": 20,
   "metadata": {},
   "outputs": [],
   "source": [
    "load_saved_model = True\n",
    "train_model = True"
   ]
  },
  {
   "cell_type": "code",
   "execution_count": 21,
   "metadata": {},
   "outputs": [],
   "source": [
    "token_type = 'word'"
   ]
  },
  {
   "cell_type": "markdown",
   "metadata": {},
   "source": [
    "## data"
   ]
  },
  {
   "cell_type": "code",
   "execution_count": 22,
   "metadata": {},
   "outputs": [],
   "source": [
    "#load in the text and perform some cleanup\n",
    "\n",
    "seq_length = 20\n",
    "\n",
    "filename = \"./data/texto.txt\"\n",
    "\n",
    "with open(filename, encoding='utf-8-sig') as f:\n",
    "    text = f.read()"
   ]
  },
  {
   "cell_type": "code",
   "execution_count": 23,
   "metadata": {},
   "outputs": [],
   "source": [
    "start_story = '| ' * seq_length\n",
    "    \n",
    "text = start_story + text\n",
    "text = text.lower()\n",
    "text = text.replace('\\n\\n\\n\\n\\n', start_story)\n",
    "text = text.replace('\\n', ' ')\n",
    "text = re.sub('  +', '. ', text).strip()\n",
    "text = text.replace('..', '.')\n",
    "\n",
    "text = re.sub('([!\"#$%&()*+,-./:;<=>?@[\\]^_`{|}~])', r' \\1 ', text)\n",
    "text = re.sub('\\s{2,}', ' ', text)"
   ]
  },
  {
   "cell_type": "code",
   "execution_count": 24,
   "metadata": {},
   "outputs": [
    {
     "data": {
      "text/plain": [
       "3065"
      ]
     },
     "execution_count": 24,
     "metadata": {},
     "output_type": "execute_result"
    }
   ],
   "source": [
    "len(text)"
   ]
  },
  {
   "cell_type": "code",
   "execution_count": 25,
   "metadata": {},
   "outputs": [
    {
     "data": {
      "text/plain": [
       "' | | | | | | | | | | | | | | | | | | | | art . 1 . es delito toda acción u omisión voluntaria penada por la ley . las acciones u omisiones penadas por la ley se reputan siempre voluntarias , a no ser que conste lo contrario . el que cometiere delito será responsable de él e incurrirá en la pena que la ley señale , aunque el mal recaiga sobre persona distinta de aquella a quien se proponía ofender . en tal caso no se tomarán en consideración las circunstancias , no conocidas por el delincuente , que agravarían su responsabilidad ; pero sí aquellas que la atenúen . | | | | | | | | | | | | | | | | | | | | art . 2 . las acciones u omisiones que cometidas con dolo o malicia importarían un delito , constituyen cuasidelito si sólo hay culpa en el que las comete . | | | | | | | | | | | | | | | | | | | | art . 3 . los delitos , atendida su gravedad , se dividen en crímenes , simples delitos y faltas y se califican de tales según la pena que les está asignada en la escala general del art . 21 . | | | | | | | | | | | | | | | | | | | | art . 4 . la división de los delitos es aplicable a los cuasidelitos , que se califican y penan en los casos especiales que determina este código . | | | | | | | | | | | | | | | | | | | | art . 5 . la ley penal chilena es obligatoria para todos los habitantes de la república , inclusos los extranjeros . los delitos cometidos dentro del mar territorial o adyacente quedan sometidos a las prescripciones de este código . | | | | | | | | | | | | | | | | | | | | art . 6 . los crímenes o simples delitos perpetrados fuera del territorio de la república por chilenos o por extranjeros , no serán castigados en chile sino en los casos determinados por la ley . | | | | | | | | | | | | | | | | | | | | art . 7 . son punibles , no sólo el crimen o simple delito consumado , sino el frustrado y la tentativa . hay crimen o simple delito frustrado cuando el delincuente pone de su parte todo lo necesario para que el crimen o simple delito se consume y esto no se verifica por causas independientes de su voluntad . hay tentativa cuando el culpable da principio a la ejecución del crimen o simple delito por hechos directos , pero faltan uno o más para su complemento . | | | | | | | | | | | | | | | | | | | | art . 8 . la conspiración y proposición para cometer un crimen o un simple delito , sólo son punibles en los casos en que la ley las pena especialmente . la conspiración existe cuando dos o más personas se conciertan para la ejecución del crimen o simple delito . la proposición se verifica cuando el que ha resuelto cometer un crimen o un simple delito , propone su ejecución a otra u otras personas . exime de toda pena por la conspiración o proposición para cometer un crimen o un simple delito , el desistimiento de la ejecución de éstos antes de principiar a ponerlos por obra y de iniciarse procedimiento judicial contra el culpable , con tal que denuncie a la autoridad pública el plan y sus circunstancias . | | | | | | | | | | | | | | | | | | | | art . 9 . las faltas sólo se castigan cuando han sido consumadas . '"
      ]
     },
     "execution_count": 25,
     "metadata": {},
     "output_type": "execute_result"
    }
   ],
   "source": [
    "text"
   ]
  },
  {
   "cell_type": "code",
   "execution_count": 26,
   "metadata": {},
   "outputs": [],
   "source": [
    "\n",
    "if token_type == 'word':\n",
    "    tokenizer = Tokenizer(char_level = False, filters = '')\n",
    "else:\n",
    "    tokenizer = Tokenizer(char_level = True, filters = '', lower = False)\n",
    "    \n",
    "    \n",
    "tokenizer.fit_on_texts([text])\n",
    "\n",
    "total_words = len(tokenizer.word_index) + 1\n",
    "\n",
    "token_list = tokenizer.texts_to_sequences([text])[0]\n"
   ]
  },
  {
   "cell_type": "code",
   "execution_count": 27,
   "metadata": {},
   "outputs": [
    {
     "data": {
      "text/plain": [
       "205"
      ]
     },
     "execution_count": 27,
     "metadata": {},
     "output_type": "execute_result"
    }
   ],
   "source": [
    "total_words"
   ]
  },
  {
   "cell_type": "code",
   "execution_count": 28,
   "metadata": {
    "scrolled": true
   },
   "outputs": [
    {
     "name": "stdout",
     "output_type": "stream",
     "text": [
      "688\n",
      "{'|': 1, '.': 2, 'la': 3, ',': 4, 'o': 5, 'que': 6, 'de': 7, 'el': 8, 'delito': 9, 'se': 10, 'en': 11, 'art': 12, 'por': 13, 'los': 14, 'a': 15, 'y': 16, 'crimen': 17, 'simple': 18, 'las': 19, 'un': 20, 'ley': 21, 'no': 22, 'su': 23, 'para': 24, 'delitos': 25, 'del': 26, 'cuando': 27, 'u': 28, 'pena': 29, 'sólo': 30, 'ejecución': 31, 'es': 32, 'hay': 33, 'casos': 34, 'conspiración': 35, 'proposición': 36, 'cometer': 37, 'toda': 38, 'acciones': 39, 'omisiones': 40, 'lo': 41, 'tal': 42, 'circunstancias': 43, 'delincuente': 44, 'pero': 45, 'con': 46, 'crímenes': 47, 'simples': 48, 'faltas': 49, 'califican': 50, 'este': 51, 'código': 52, 'república': 53, 'extranjeros': 54, 'sino': 55, 'son': 56, 'punibles': 57, 'frustrado': 58, 'tentativa': 59, 'verifica': 60, 'culpable': 61, 'más': 62, 'personas': 63, '1': 64, 'acción': 65, 'omisión': 66, 'voluntaria': 67, 'penada': 68, 'penadas': 69, 'reputan': 70, 'siempre': 71, 'voluntarias': 72, 'ser': 73, 'conste': 74, 'contrario': 75, 'cometiere': 76, 'será': 77, 'responsable': 78, 'él': 79, 'e': 80, 'incurrirá': 81, 'señale': 82, 'aunque': 83, 'mal': 84, 'recaiga': 85, 'sobre': 86, 'persona': 87, 'distinta': 88, 'aquella': 89, 'quien': 90, 'proponía': 91, 'ofender': 92, 'caso': 93, 'tomarán': 94, 'consideración': 95, 'conocidas': 96, 'agravarían': 97, 'responsabilidad': 98, ';': 99, 'sí': 100, 'aquellas': 101, 'atenúen': 102, '2': 103, 'cometidas': 104, 'dolo': 105, 'malicia': 106, 'importarían': 107, 'constituyen': 108, 'cuasidelito': 109, 'si': 110, 'culpa': 111, 'comete': 112, '3': 113, 'atendida': 114, 'gravedad': 115, 'dividen': 116, 'tales': 117, 'según': 118, 'les': 119, 'está': 120, 'asignada': 121, 'escala': 122, 'general': 123, '21': 124, '4': 125, 'división': 126, 'aplicable': 127, 'cuasidelitos': 128, 'penan': 129, 'especiales': 130, 'determina': 131, '5': 132, 'penal': 133, 'chilena': 134, 'obligatoria': 135, 'todos': 136, 'habitantes': 137, 'inclusos': 138, 'cometidos': 139, 'dentro': 140, 'mar': 141, 'territorial': 142, 'adyacente': 143, 'quedan': 144, 'sometidos': 145, 'prescripciones': 146, '6': 147, 'perpetrados': 148, 'fuera': 149, 'territorio': 150, 'chilenos': 151, 'serán': 152, 'castigados': 153, 'chile': 154, 'determinados': 155, '7': 156, 'consumado': 157, 'pone': 158, 'parte': 159, 'todo': 160, 'necesario': 161, 'consume': 162, 'esto': 163, 'causas': 164, 'independientes': 165, 'voluntad': 166, 'da': 167, 'principio': 168, 'hechos': 169, 'directos': 170, 'faltan': 171, 'uno': 172, 'complemento': 173, '8': 174, 'especialmente': 175, 'existe': 176, 'dos': 177, 'conciertan': 178, 'ha': 179, 'resuelto': 180, 'propone': 181, 'otra': 182, 'otras': 183, 'exime': 184, 'desistimiento': 185, 'éstos': 186, 'antes': 187, 'principiar': 188, 'ponerlos': 189, 'obra': 190, 'iniciarse': 191, 'procedimiento': 192, 'judicial': 193, 'contra': 194, 'denuncie': 195, 'autoridad': 196, 'pública': 197, 'plan': 198, 'sus': 199, '9': 200, 'castigan': 201, 'han': 202, 'sido': 203, 'consumadas': 204}\n",
      "[1, 1, 1, 1, 1, 1, 1, 1, 1, 1, 1, 1, 1, 1, 1, 1, 1, 1, 1, 1, 12, 2, 64, 2, 32, 9, 38, 65, 28, 66, 67, 68, 13, 3, 21, 2, 19, 39, 28, 40, 69, 13, 3, 21, 10, 70, 71, 72, 4, 15, 22, 73, 6, 74, 41, 75, 2, 8, 6, 76, 9, 77, 78, 7, 79, 80, 81, 11, 3, 29, 6, 3, 21, 82, 4, 83, 8, 84, 85, 86, 87, 88, 7, 89, 15, 90, 10, 91, 92, 2, 11, 42, 93, 22, 10, 94, 11, 95, 19, 43, 4, 22, 96, 13, 8, 44, 4, 6, 97, 23, 98, 99, 45, 100, 101, 6, 3, 102, 2, 1, 1, 1, 1, 1, 1, 1, 1, 1, 1, 1, 1, 1, 1, 1, 1, 1, 1, 1, 1, 12, 2, 103, 2, 19, 39, 28, 40, 6, 104, 46, 105, 5, 106, 107, 20, 9, 4, 108, 109, 110, 30, 33, 111, 11, 8, 6, 19, 112, 2, 1, 1, 1, 1, 1, 1, 1, 1, 1, 1, 1, 1, 1, 1, 1, 1, 1, 1, 1, 1, 12, 2, 113, 2, 14, 25, 4, 114, 23, 115, 4, 10, 116, 11, 47, 4, 48, 25, 16, 49, 16, 10, 50, 7, 117, 118, 3, 29, 6, 119, 120, 121, 11, 3, 122, 123, 26, 12, 2, 124, 2, 1, 1, 1, 1, 1, 1, 1, 1, 1, 1, 1, 1, 1, 1, 1, 1, 1, 1, 1, 1, 12, 2, 125, 2, 3, 126, 7, 14, 25, 32, 127, 15, 14, 128, 4, 6, 10, 50, 16, 129, 11, 14, 34, 130, 6, 131, 51, 52, 2, 1, 1, 1, 1, 1, 1, 1, 1, 1, 1, 1, 1, 1, 1, 1, 1, 1, 1, 1, 1, 12, 2, 132, 2, 3, 21, 133, 134, 32, 135, 24, 136, 14, 137, 7, 3, 53, 4, 138, 14, 54, 2, 14, 25, 139, 140, 26, 141, 142, 5, 143, 144, 145, 15, 19, 146, 7, 51, 52, 2, 1, 1, 1, 1, 1, 1, 1, 1, 1, 1, 1, 1, 1, 1, 1, 1, 1, 1, 1, 1, 12, 2, 147, 2, 14, 47, 5, 48, 25, 148, 149, 26, 150, 7, 3, 53, 13, 151, 5, 13, 54, 4, 22, 152, 153, 11, 154, 55, 11, 14, 34, 155, 13, 3, 21, 2, 1, 1, 1, 1, 1, 1, 1, 1, 1, 1, 1, 1, 1, 1, 1, 1, 1, 1, 1, 1, 12, 2, 156, 2, 56, 57, 4, 22, 30, 8, 17, 5, 18, 9, 157, 4, 55, 8, 58, 16, 3, 59, 2, 33, 17, 5, 18, 9, 58, 27, 8, 44, 158, 7, 23, 159, 160, 41, 161, 24, 6, 8, 17, 5, 18, 9, 10, 162, 16, 163, 22, 10, 60, 13, 164, 165, 7, 23, 166, 2, 33, 59, 27, 8, 61, 167, 168, 15, 3, 31, 26, 17, 5, 18, 9, 13, 169, 170, 4, 45, 171, 172, 5, 62, 24, 23, 173, 2, 1, 1, 1, 1, 1, 1, 1, 1, 1, 1, 1, 1, 1, 1, 1, 1, 1, 1, 1, 1, 12, 2, 174, 2, 3, 35, 16, 36, 24, 37, 20, 17, 5, 20, 18, 9, 4, 30, 56, 57, 11, 14, 34, 11, 6, 3, 21, 19, 29, 175, 2, 3, 35, 176, 27, 177, 5, 62, 63, 10, 178, 24, 3, 31, 26, 17, 5, 18, 9, 2, 3, 36, 10, 60, 27, 8, 6, 179, 180, 37, 20, 17, 5, 20, 18, 9, 4, 181, 23, 31, 15, 182, 28, 183, 63, 2, 184, 7, 38, 29, 13, 3, 35, 5, 36, 24, 37, 20, 17, 5, 20, 18, 9, 4, 8, 185, 7, 3, 31, 7, 186, 187, 7, 188, 15, 189, 13, 190, 16, 7, 191, 192, 193, 194, 8, 61, 4, 46, 42, 6, 195, 15, 3, 196, 197, 8, 198, 16, 199, 43, 2, 1, 1, 1, 1, 1, 1, 1, 1, 1, 1, 1, 1, 1, 1, 1, 1, 1, 1, 1, 1, 12, 2, 200, 2, 19, 49, 30, 10, 201, 27, 202, 203, 204, 2]\n"
     ]
    }
   ],
   "source": [
    "print(len(token_list))\n",
    "print(tokenizer.word_index)\n",
    "print(token_list)"
   ]
  },
  {
   "cell_type": "code",
   "execution_count": 29,
   "metadata": {},
   "outputs": [
    {
     "name": "stdout",
     "output_type": "stream",
     "text": [
      "Number of sequences: 668 \n",
      "\n"
     ]
    }
   ],
   "source": [
    "def generate_sequences(token_list, step):\n",
    "    \n",
    "    X = []\n",
    "    y = []\n",
    "\n",
    "    for i in range(0, len(token_list) - seq_length, step):\n",
    "        X.append(token_list[i: i + seq_length])\n",
    "        y.append(token_list[i + seq_length])\n",
    "    \n",
    "\n",
    "    y = to_categorical(y, num_classes = total_words)\n",
    "    \n",
    "    num_seq = len(X)\n",
    "    print('Number of sequences:', num_seq, \"\\n\")\n",
    "    \n",
    "    return X, y, num_seq\n",
    "\n",
    "step = 1\n",
    "seq_length = 20\n",
    "\n",
    "X, y, num_seq = generate_sequences(token_list, step)\n",
    "\n",
    "X = np.array(X)\n",
    "y = np.array(y)\n"
   ]
  },
  {
   "cell_type": "code",
   "execution_count": 30,
   "metadata": {},
   "outputs": [
    {
     "data": {
      "text/plain": [
       "(668, 20)"
      ]
     },
     "execution_count": 30,
     "metadata": {},
     "output_type": "execute_result"
    }
   ],
   "source": [
    "X.shape"
   ]
  },
  {
   "cell_type": "code",
   "execution_count": 31,
   "metadata": {},
   "outputs": [
    {
     "data": {
      "text/plain": [
       "(668, 205)"
      ]
     },
     "execution_count": 31,
     "metadata": {},
     "output_type": "execute_result"
    }
   ],
   "source": [
    "y.shape"
   ]
  },
  {
   "cell_type": "markdown",
   "metadata": {},
   "source": [
    "## Define the LSTM model"
   ]
  },
  {
   "cell_type": "code",
   "execution_count": 32,
   "metadata": {},
   "outputs": [],
   "source": [
    "if load_saved_model:\n",
    "    model = load_model('./saved_models/epoch300_batch-size128.h5')\n",
    "\n",
    "else:\n",
    "\n",
    "    n_units = 256\n",
    "    embedding_size = 100\n",
    "\n",
    "    text_in = Input(shape = (None,))\n",
    "    embedding = Embedding(total_words, embedding_size)\n",
    "    x = embedding(text_in)\n",
    "    x = LSTM(n_units)(x)\n",
    "    text_out = Dense(total_words, activation = 'softmax')(x)\n",
    "\n",
    "    model = Model(text_in, text_out)\n",
    "\n",
    "    opti = RMSprop(learning_rate = 0.001)\n",
    "    model.compile(loss='categorical_crossentropy', optimizer=opti)"
   ]
  },
  {
   "cell_type": "code",
   "execution_count": 33,
   "metadata": {},
   "outputs": [
    {
     "name": "stdout",
     "output_type": "stream",
     "text": [
      "Model: \"model_2\"\n",
      "_________________________________________________________________\n",
      " Layer (type)                Output Shape              Param #   \n",
      "=================================================================\n",
      " input_3 (InputLayer)        [(None, None)]            0         \n",
      "                                                                 \n",
      " embedding_2 (Embedding)     (None, None, 100)         20500     \n",
      "                                                                 \n",
      " lstm_2 (LSTM)               (None, 256)               365568    \n",
      "                                                                 \n",
      " dense_2 (Dense)             (None, 205)               52685     \n",
      "                                                                 \n",
      "=================================================================\n",
      "Total params: 438,753\n",
      "Trainable params: 438,753\n",
      "Non-trainable params: 0\n",
      "_________________________________________________________________\n"
     ]
    }
   ],
   "source": [
    "model.summary()"
   ]
  },
  {
   "cell_type": "code",
   "execution_count": 34,
   "metadata": {},
   "outputs": [],
   "source": [
    "def sample_with_temp(preds, temperature=1.0):\n",
    "    # helper function to sample an index from a probability array\n",
    "    preds = np.asarray(preds).astype('float64')\n",
    "    preds = np.log(preds) / temperature\n",
    "    exp_preds = np.exp(preds)\n",
    "    preds = exp_preds / np.sum(exp_preds)\n",
    "    probas = np.random.multinomial(1, preds, 1)\n",
    "    return np.argmax(probas)\n",
    "\n",
    "\n",
    "\n",
    "def generate_text(seed_text, next_words, model, max_sequence_len, temp):\n",
    "    output_text = seed_text\n",
    "    \n",
    "    seed_text = start_story + seed_text\n",
    "    \n",
    "    for _ in range(next_words):\n",
    "        token_list = tokenizer.texts_to_sequences([seed_text])[0]\n",
    "        token_list = token_list[-max_sequence_len:]\n",
    "        token_list = np.reshape(token_list, (1, max_sequence_len))\n",
    "        \n",
    "        probs = model.predict(token_list, verbose=0)[0]\n",
    "        y_class = sample_with_temp(probs, temperature = temp)\n",
    "        \n",
    "        if y_class == 0:\n",
    "            output_word = ''\n",
    "        else:\n",
    "            output_word = tokenizer.index_word[y_class]\n",
    "            \n",
    "        if output_word == \"|\":\n",
    "            break\n",
    "            \n",
    "        if token_type == 'word':\n",
    "            output_text += output_word + ' '\n",
    "            seed_text += output_word + ' '\n",
    "        else:\n",
    "            output_text += output_word + ' '\n",
    "            seed_text += output_word + ' '\n",
    "            \n",
    "            \n",
    "    return output_text"
   ]
  },
  {
   "cell_type": "code",
   "execution_count": 19,
   "metadata": {},
   "outputs": [
    {
     "name": "stdout",
     "output_type": "stream",
     "text": [
      "Epoch 1/1000\n",
      "21/21 [==============================] - ETA: 0s - loss: 4.4713Temp 0.2\n",
      "\n",
      "Temp 0.33\n",
      "\n",
      "Temp 0.5\n",
      "\n",
      "Temp 1.0\n",
      "\n",
      "21/21 [==============================] - 3s 73ms/step - loss: 4.4713\n",
      "Epoch 2/1000\n",
      "20/21 [===========================>..] - ETA: 0s - loss: 3.9202Temp 0.2\n",
      "\n",
      "Temp 0.33\n",
      "\n",
      "Temp 0.5\n",
      "\n",
      "Temp 1.0\n",
      "\n",
      "21/21 [==============================] - 1s 52ms/step - loss: 3.9213\n",
      "Epoch 3/1000\n",
      "21/21 [==============================] - ETA: 0s - loss: 3.7190Temp 0.2\n",
      "\n",
      "Temp 0.33\n",
      "\n",
      "Temp 0.5\n",
      "\n",
      "Temp 1.0\n",
      "\n",
      "21/21 [==============================] - 1s 56ms/step - loss: 3.7190\n",
      "Epoch 4/1000\n",
      "20/21 [===========================>..] - ETA: 0s - loss: 3.5870Temp 0.2\n",
      "\n",
      "Temp 0.33\n",
      "\n",
      "Temp 0.5\n",
      "\n",
      "Temp 1.0\n",
      "\n",
      "21/21 [==============================] - 1s 52ms/step - loss: 3.6115\n",
      "Epoch 5/1000\n",
      "21/21 [==============================] - ETA: 0s - loss: 3.5548Temp 0.2\n",
      "\n",
      "Temp 0.33\n",
      "\n",
      "Temp 0.5\n",
      "\n",
      "Temp 1.0\n",
      ". . . sólo un simple por , todo los simple delitos conocidas sólo los con o parte la a crimen conspiración la escala la culpable sino aquellas en casos la penan que voluntaria sólo sólo circunstancias que pena u la cuando extranjeros se no independientes se el punibles es él simple por verifica y crimen quien aplicable sino consumadas ejecución faltan proposición contra el lo a pena chile determina . un de ejecución incurrirá o . . faltas , quien se se uno de la sólo ley simples culpa en dividen en acciones , denuncie la fuera pública obligatoria código cometer pública simple , de . pena . \n",
      "21/21 [==============================] - 6s 310ms/step - loss: 3.5548\n",
      "Epoch 6/1000\n",
      "20/21 [===========================>..] - ETA: 0s - loss: 3.4214Temp 0.2\n",
      "\n",
      "Temp 0.33\n",
      "\n",
      "Temp 0.5\n",
      "\n",
      "Temp 1.0\n",
      "\n",
      "21/21 [==============================] - 1s 52ms/step - loss: 3.4559\n",
      "Epoch 7/1000\n",
      "21/21 [==============================] - ETA: 0s - loss: 3.3868Temp 0.2\n",
      "\n",
      "Temp 0.33\n",
      "\n",
      "Temp 0.5\n",
      "\n",
      "Temp 1.0\n",
      "\n",
      "21/21 [==============================] - 1s 57ms/step - loss: 3.3868\n",
      "Epoch 8/1000\n",
      "20/21 [===========================>..] - ETA: 0s - loss: 3.2766Temp 0.2\n",
      "\n",
      "Temp 0.33\n",
      "\n",
      "Temp 0.5\n",
      "\n",
      "Temp 1.0\n",
      "\n",
      "21/21 [==============================] - 1s 64ms/step - loss: 3.3028\n",
      "Epoch 9/1000\n",
      "21/21 [==============================] - ETA: 0s - loss: 3.2298Temp 0.2\n",
      "\n",
      "Temp 0.33\n",
      "\n",
      "Temp 0.5\n",
      "\n",
      "Temp 1.0\n",
      "\n",
      "21/21 [==============================] - 1s 61ms/step - loss: 3.2298\n",
      "Epoch 10/1000\n",
      "21/21 [==============================] - ETA: 0s - loss: 3.1568Temp 0.2\n",
      "\n",
      "Temp 0.33\n",
      "\n",
      "Temp 0.5\n",
      "\n",
      "Temp 1.0\n",
      "\n",
      "21/21 [==============================] - 1s 64ms/step - loss: 3.1568\n",
      "Epoch 11/1000\n",
      "21/21 [==============================] - ETA: 0s - loss: 3.1010Temp 0.2\n",
      "\n",
      "Temp 0.33\n",
      "\n",
      "Temp 0.5\n",
      "\n",
      "Temp 1.0\n",
      "\n",
      "21/21 [==============================] - 1s 63ms/step - loss: 3.1010\n",
      "Epoch 12/1000\n",
      "20/21 [===========================>..] - ETA: 0s - loss: 3.0064Temp 0.2\n",
      "\n",
      "Temp 0.33\n",
      "\n",
      "Temp 0.5\n",
      "\n",
      "Temp 1.0\n",
      "\n",
      "21/21 [==============================] - 1s 57ms/step - loss: 3.0129\n",
      "Epoch 13/1000\n",
      "20/21 [===========================>..] - ETA: 0s - loss: 2.9451Temp 0.2\n",
      "\n",
      "Temp 0.33\n",
      "\n",
      "Temp 0.5\n",
      "\n",
      "Temp 1.0\n",
      "\n",
      "21/21 [==============================] - 1s 56ms/step - loss: 2.9598\n",
      "Epoch 14/1000\n",
      "20/21 [===========================>..] - ETA: 0s - loss: 2.8787Temp 0.2\n",
      "\n",
      "Temp 0.33\n",
      "art . . . . . los . delitos chilena es es es ley o la , , , , , , . simple simple los . \n",
      "Temp 0.5\n",
      "\n",
      "Temp 1.0\n",
      "\n",
      "21/21 [==============================] - 2s 120ms/step - loss: 2.8986\n",
      "Epoch 15/1000\n",
      "21/21 [==============================] - ETA: 0s - loss: 2.8039Temp 0.2\n",
      "\n",
      "Temp 0.33\n",
      "\n",
      "Temp 0.5\n",
      "\n",
      "Temp 1.0\n",
      "\n",
      "21/21 [==============================] - 1s 59ms/step - loss: 2.8039\n",
      "Epoch 16/1000\n",
      "21/21 [==============================] - ETA: 0s - loss: 2.7254Temp 0.2\n",
      "\n",
      "Temp 0.33\n",
      "\n",
      "Temp 0.5\n",
      "\n",
      "Temp 1.0\n",
      "\n",
      "21/21 [==============================] - 1s 58ms/step - loss: 2.7254\n",
      "Epoch 17/1000\n",
      "21/21 [==============================] - ETA: 0s - loss: 2.6742Temp 0.2\n",
      "\n",
      "Temp 0.33\n",
      "art . 5 . la . las , chilena delitos o voluntaria crimen un , delito , , delito delito , , punibles simple el los a de en la que en . general este código \n",
      "Temp 0.5\n",
      "art . . . las . punibles delitos crímenes ley proposición , simple república acciones , , , por por república sólo en por en en la pero que de . . \n",
      "Temp 1.0\n",
      "\n",
      "21/21 [==============================] - 4s 210ms/step - loss: 2.6742\n",
      "Epoch 18/1000\n",
      "21/21 [==============================] - ETA: 0s - loss: 2.5856Temp 0.2\n",
      "\n",
      "Temp 0.33\n",
      "\n",
      "Temp 0.5\n",
      "\n",
      "Temp 1.0\n",
      "\n",
      "21/21 [==============================] - 1s 58ms/step - loss: 2.5856\n",
      "Epoch 19/1000\n",
      "20/21 [===========================>..] - ETA: 0s - loss: 2.5181Temp 0.2\n",
      "\n",
      "Temp 0.33\n",
      "\n",
      "Temp 0.5\n",
      "\n",
      "Temp 1.0\n",
      "\n",
      "21/21 [==============================] - 1s 57ms/step - loss: 2.5287\n",
      "Epoch 20/1000\n",
      "21/21 [==============================] - ETA: 0s - loss: 2.4606Temp 0.2\n",
      "\n",
      "Temp 0.33\n",
      "\n",
      "Temp 0.5\n",
      "art . 5 . la y se para u delitos crimen o o simple simple delito delito . los los cuando verifica , el la del crimen crimen o delito . \n",
      "Temp 1.0\n",
      "art . 4 . faltas faltas crímenes crímenes o omisión castigan los crimen circunstancias en conciertan son punibles constituyen los y por tentativa omisiones caso que a el no sometidos en la su que obra por el su a penadas ofender la mar voluntad pública la su crimen lo no proponía ejecución parte la la penal ejecución ejecución la pena crimen para simple omisiones simple todo ejecución delincuente extranjeros prescripciones el según penal que las responsable lo cuasidelito ejecución , el delincuente que para su más simple ley delincuente delito tentativa reputan del a del crimen o o su hay simple por cuando de la ley punibles conste omisiones todos por delito simple o delito delito o señale de a de chile según la en . que en las código en . éstos la conspiración . \n",
      "21/21 [==============================] - 9s 466ms/step - loss: 2.4606\n",
      "Epoch 21/1000\n",
      "21/21 [==============================] - ETA: 0s - loss: 2.3694Temp 0.2\n",
      "\n",
      "Temp 0.33\n",
      "\n",
      "Temp 0.5\n",
      "\n",
      "Temp 1.0\n",
      "art . u . la \n",
      "21/21 [==============================] - 1s 65ms/step - loss: 2.3694\n",
      "Epoch 22/1000\n",
      "21/21 [==============================] - ETA: 0s - loss: 2.3218Temp 0.2\n",
      "\n",
      "Temp 0.33\n",
      "\n",
      "Temp 0.5\n",
      "\n",
      "Temp 1.0\n",
      "\n",
      "21/21 [==============================] - 1s 52ms/step - loss: 2.3218\n",
      "Epoch 23/1000\n",
      "20/21 [===========================>..] - ETA: 0s - loss: 2.2003Temp 0.2\n",
      "\n",
      "Temp 0.33\n",
      "\n",
      "Temp 0.5\n",
      "\n",
      "Temp 1.0\n",
      "\n",
      "21/21 [==============================] - 1s 62ms/step - loss: 2.2351\n",
      "Epoch 24/1000\n",
      "21/21 [==============================] - ETA: 0s - loss: 2.1790Temp 0.2\n",
      "\n",
      "Temp 0.33\n",
      "\n",
      "Temp 0.5\n",
      "\n",
      "Temp 1.0\n",
      "\n",
      "21/21 [==============================] - 1s 51ms/step - loss: 2.1790\n",
      "Epoch 25/1000\n",
      "20/21 [===========================>..] - ETA: 0s - loss: 2.1567Temp 0.2\n",
      "\n",
      "Temp 0.33\n",
      "\n",
      "Temp 0.5\n",
      "\n",
      "Temp 1.0\n",
      "\n",
      "21/21 [==============================] - 1s 53ms/step - loss: 2.1361\n",
      "Epoch 26/1000\n",
      "21/21 [==============================] - ETA: 0s - loss: 2.0586Temp 0.2\n",
      "art . 2 . la . las delitos es es que crimen o un delito , , sólo y y los delito , , el el culpable a la la la la la culpable . la la la código código código . para más la la la la la la ejecución ejecución la la la ejecución ejecución ejecución del crimen se cuando su su su la su la la la la la la ejecución ejecución ejecución ejecución la la crimen o simple simple . se su su su la la la . \n",
      "Temp 0.33\n",
      "art . 4 . la , , es sólo es crimen o un simple delito , , sólo y y de . conspiración más para dos para . la la . \n",
      "Temp 0.5\n",
      "art . 3 . la delito sólo que para gravedad crimen o o delito , delito , sólo los consume la . ejecución la para más . la . ejecución la por . 21 . \n",
      "Temp 1.0\n",
      "\n",
      "21/21 [==============================] - 8s 401ms/step - loss: 2.0586\n",
      "Epoch 27/1000\n",
      "21/21 [==============================] - ETA: 0s - loss: 1.9885Temp 0.2\n",
      "art . 2 . la los u omisiones es es crimen o o simple delito delito , , y y en el el la . \n",
      "Temp 0.33\n",
      "art . 1 . los , sólo omisiones o cometidas para o o simple delito delito , u y punibles en la la . \n",
      "Temp 0.5\n",
      "art . 1 . los . , no u omisiones el o simple simple simple . simple son faltas y y . la . \n",
      "Temp 1.0\n",
      "art . 2 . los es los chilena delitos con es aplicable acciones importarían o hay consumado el son los omisiones delitos recaiga no desistimiento tales quedan faltan quien su antes el delincuente ley pero que caso de causas código a código para \n",
      "21/21 [==============================] - 6s 309ms/step - loss: 1.9885\n",
      "Epoch 28/1000\n"
     ]
    },
    {
     "name": "stdout",
     "output_type": "stream",
     "text": [
      "21/21 [==============================] - ETA: 0s - loss: 1.9636Temp 0.2\n",
      "\n",
      "Temp 0.33\n",
      "\n",
      "Temp 0.5\n",
      "\n",
      "Temp 1.0\n",
      "\n",
      "21/21 [==============================] - 1s 51ms/step - loss: 1.9636\n",
      "Epoch 29/1000\n",
      "21/21 [==============================] - ETA: 0s - loss: 1.8639Temp 0.2\n",
      "\n",
      "Temp 0.33\n",
      "\n",
      "Temp 0.5\n",
      "art . 2 . los , simples toda es es los de . la la por , acciones por omisiones y , culpable ley incurrirá incurrirá iniciarse se ejecución la la su el su ley la de a de de de culpable culpable consideración la de incurrirá a crimen simple simple cuando de ley contra que la casos las de a en de la la más . la la tentativa . ha a código más más personas conspiración para ejecución conciertan ejecución ejecución su la la la la la la la ejecución la ejecución ejecución ejecución la ejecución se para ejecución proposición ejecución ejecución su su ejecución su se siempre la la la a de se la incurrirá incurrirá crimen la la simple cuando cuando delincuente prescripciones la está de la la \n",
      "Temp 1.0\n",
      "\n",
      "21/21 [==============================] - 8s 373ms/step - loss: 1.8639\n",
      "Epoch 30/1000\n",
      "20/21 [===========================>..] - ETA: 0s - loss: 1.7981Temp 0.2\n",
      "art . 2 . la conspiración , u que crimen o o simple delito delito , , y y y por cuando la hay ejecución o o simple . la el su código código . \n",
      "Temp 0.33\n",
      "art . 2 . la punibles sólo omisiones para cometer del o o delito delito delito , y y y el . simple . simple . la su . \n",
      "Temp 0.5\n",
      "art . las . la conspiración , que crimen gravedad cometer crimen un o delito delito , y y los con delito el , la ejecución de el no las por la judicial en adyacente tales tomarán será responsable otra se reputan , se a tomarán a la voluntad la la se proponía de iniciarse responsable sobre del a castigados del del se la la autoridad cuando casos que las en . la . \n",
      "Temp 1.0\n",
      "\n",
      "21/21 [==============================] - 8s 400ms/step - loss: 1.8176\n",
      "Epoch 31/1000\n",
      "20/21 [===========================>..] - ETA: 0s - loss: 1.7471Temp 0.2\n",
      "art . 1 . la delitos , simples delitos es aplicable los de de de república , república inclusos los extranjeros , extranjeros delitos judicial cometidos iniciarse cometidos judicial procedimiento judicial judicial a , denuncie en les sí aquellas aquellas aquellas este \n",
      "Temp 0.33\n",
      "art . 6 . la las u no no para crimen o o simple delito , , y y los por la su la ejecución proposición crimen o simple . la cuando se . código . \n",
      "Temp 0.5\n",
      "art . 9 . las delitos simples delitos con es han habitantes , república la república , por y y en los pero hay del u o que que determina este que la ley . \n",
      "Temp 1.0\n",
      "\n",
      "21/21 [==============================] - 6s 301ms/step - loss: 1.7288\n",
      "Epoch 32/1000\n",
      "20/21 [===========================>..] - ETA: 0s - loss: 1.6676Temp 0.2\n",
      "art . las . la . sólo sólo se castigan delitos para o un un , sólo sólo sólo los se . por y por y y han responsable persona o simple crimen se delito delito y y el reputan éstos , la la a incurrirá tales iniciarse que su hay sí u del aquellas aquellas que determina escala general \n",
      "Temp 0.33\n",
      "\n",
      "Temp 0.5\n",
      "art . 9 . las . sólo son acciones los penada crimen o simple simple delito las y delitos punibles chile o sólo delito los se que reputan de para el el la crimen o o simple simple . por los , art general del del o uno más . . \n",
      "Temp 1.0\n",
      "art . 5 . la conspiración , toda el su sólo un o simple . delito califican son prescripciones omisiones parte por el la conspiración conspiración cometer un necesario delito o delito delito , el delincuente y de lo causas el su su el que en e iniciarse quien simples conspiración o crimen un un proposición o simple simple simple simple cuando hay verifica ley pena para las las pena delincuente todo para en siempre simple por por se cuando un circunstancias ha del iniciarse se proponía del de su de culpable proponía para u que a territorial culpable a de la la que pena principiar tentativa no . la ejecución crimen o delito simple simple faltas antes su que la de la voluntarias la de califican hay crimen la la omisión los ha verifica que a consideración señale que prescripciones de la voluntarias ejecución éstos delitos directos de 9 se del está pena que a tal no con necesario más si toda omisiones principio incurrirá uno la culpable 8 , los se tomarán circunstancias de según las no pena los circunstancias con que señale esto su aquellas adyacente territorial pone las art circunstancias la la éstos casos la para resuelto ejecución ejecución no no frustrado delito chilenos conocidas casos en sino en la pone la la los de da este reputan a a del que crimen cuando o . \n",
      "21/21 [==============================] - 17s 827ms/step - loss: 1.6768\n",
      "Epoch 33/1000\n",
      "21/21 [==============================] - ETA: 0s - loss: 1.6201Temp 0.2\n",
      "\n",
      "Temp 0.33\n",
      "\n",
      "Temp 0.5\n",
      "\n",
      "Temp 1.0\n",
      "\n",
      "21/21 [==============================] - 1s 55ms/step - loss: 1.6201\n",
      "Epoch 34/1000\n",
      "20/21 [===========================>..] - ETA: 0s - loss: 1.5942Temp 0.2\n",
      "\n",
      "Temp 0.33\n",
      "\n",
      "Temp 0.5\n",
      "\n",
      "Temp 1.0\n",
      "\n",
      "21/21 [==============================] - 1s 54ms/step - loss: 1.5784\n",
      "Epoch 35/1000\n",
      "21/21 [==============================] - ETA: 0s - loss: 1.4946Temp 0.2\n",
      "art . 7 . las delitos delitos delitos es es todos los habitantes de la república , chilenos los por extranjeros , extranjeros delitos cometidos del del mar está adyacente del sometidos en en la de este código . \n",
      "Temp 0.33\n",
      "art . 4 . los . y sólo sólo o crimen o simple delito delito , , , el y la crimen crimen o o simple delito . delito . la . \n",
      "Temp 0.5\n",
      "art . 3 . los faltas , sólo cuando obligatoria crimen o un simple delito , , son el y por crimen ejecución . ha . delito la . la tentativa . código . \n",
      "Temp 1.0\n",
      "art . a . la 5 ley cometidas delitos los consumadas consumadas esto se sido ejecución voluntaria por , penada los . por reputan aplicable consume él recaiga escala del mal asignada circunstancias o en crímenes ser pone se han que verifica de resuelto del a o o . simple delito . hay cuando la este código . culpable proposición . la conspiración del la más frustrado simples . hay un un un crimen crimen o o un . la delito por el el especiales determinados personas especialmente ley el y para la delito . la se lo conspiración ejecución crimen simple . delito delito de ejecución de en se ejecución voluntarias necesario el de para siempre o para , y , éstos territorial iniciarse de las contra está del otra de los pena en este código la . se . \n",
      "21/21 [==============================] - 12s 605ms/step - loss: 1.4946\n",
      "Epoch 36/1000\n",
      "20/21 [===========================>..] - ETA: 0s - loss: 1.4905Temp 0.2\n",
      "art . 6 . la la , sólo los el crimen o o simple delito , , , frustrado y la la conspiración la crimen o o delito o delito . la . para dos \n",
      "Temp 0.33\n",
      "art . 4 . la delitos de delitos delitos es territorio de a la la la república , sólo los extranjeros , en los denuncie y y y de las las éstos de la ejecución ejecución crimen o simple reputan la se se se , a a a a según a tal la su tentativa cuando el comete principio principio resuelto resuelto cometer crimen o un simple delito , , su el en en sino cuando casos que y de de las . la conspiración o proposición para un un un un un , , , el que que que el , , que casos en y sino sino culpable de este 21 para para para conspiración . o cuando o su más . \n",
      "Temp 0.5\n",
      "art . 9 . la punibles o se para para o un un simple delito , consume , y cuasidelito el por su delito . que tentativa culpable y por las principio resuelto cometer ha crimen o o un delito , , el en en o cuasidelito que prescripciones la este y que . \n",
      "Temp 1.0\n",
      "art . 8 . 6 conspiración simples que no que perpetrados . , un dolo república república y delitos , extranjeros los por penan que tal en denuncie que que el se iniciarse culpable y conspiración tal principio ejecución crimen simple simple o delito delincuente se . cuando reputan sometidos aquellas culpable este se . las existe hay ley éstos la la , , no crimen un un crimen simple delito . ejecución la directos otra pero responsabilidad exime circunstancias aunque se éstos se pena reputan ejecución para o de o un simple que . simple los casos responsabilidad asignada asignada mar pero art . . especialmente \n",
      "21/21 [==============================] - 16s 816ms/step - loss: 1.4686\n",
      "Epoch 37/1000\n"
     ]
    },
    {
     "name": "stdout",
     "output_type": "stream",
     "text": [
      "21/21 [==============================] - ETA: 0s - loss: 1.3848Temp 0.2\n",
      "art . 8 . la ley , no sólo el crimen o simple delito delito , , sólo sólo los por el la la para o . la y la la . dos dos o . \n",
      "Temp 0.33\n",
      "art . 5 . la ley , , castigan delitos , sido los los la república , inclusos los los extranjeros . los delitos iniciarse tales iniciarse del del iniciarse según territorial territorial está en sometidos sometidos sí aquellas código la que . 21 conspiración proposición conspiración conspiración proposición proposición para cometer o o o o simple delito . la se cuando cuando su la la la la . ejecución delito . delito . la cuando la tentativa todo para cometer , crimen o ejecución o simple delito . . los , hechos directos la de las da ejecución o o o simple simple delito . se cuando , el este la de . la . o . \n",
      "Temp 0.5\n",
      "art . 2 . son delito delitos delitos es perpetrados todos los sido en la la república república por por extranjeros , extranjeros delitos judicial del tales adyacente está castigados culpable voluntad pública su que la la la la . 21 conspiración para un cometer o un un delito delito , y , el quien se la delito , , antes el culpable y las denuncie incurrirá castigados tales este se su la . código . . \n",
      "Temp 1.0\n",
      "art . 7 . los ley acción perpetrados cuando sido los los todos . república , y inclusos los se con delitos con que castigados u cometidos del de punibles castigados de chilena tentativa u este aquellas aquellas resuelto ley . o la . \n",
      "21/21 [==============================] - 14s 710ms/step - loss: 1.3848\n",
      "Epoch 38/1000\n",
      "21/21 [==============================] - ETA: 0s - loss: 1.3441Temp 0.2\n",
      "art . 5 . la ley delitos , u sólo el crimen o simple delito . sino sino frustrado , y por cuando la o o o o simple . \n",
      "Temp 0.33\n",
      "art . 7 . la ley toda sólo sólo que el crimen o simple delito , , el frustrado y por el . la un delito . frustrado . \n",
      "Temp 0.5\n",
      "art . 3 . la conspiración delitos sólo sólo que el o simple simple delito . , sino son , tentativa . la crimen un simple y delito cuando un delito delito , , desistimiento se voluntarias no la de extranjeros , de , tales tales dentro del del del u está sometidos general general general \n",
      "Temp 1.0\n",
      "art . 6 . son las las ejecución omisiones simples perpetrados los dolo habitantes república , se constituyen los faltas extranjeros , el los distinta será cometidos mar faltan mar mar e u sometidos plan sometidos determina . aquellas más . \n",
      "21/21 [==============================] - 9s 440ms/step - loss: 1.3441\n",
      "Epoch 39/1000\n",
      "21/21 [==============================] - ETA: 0s - loss: 1.2754Temp 0.2\n",
      "art . 1 . la ley u sólo sólo el crimen o simple delito consumado , , el frustrado y que cuando hay o un simple simple y frustrado el el su o en la . \n",
      "Temp 0.33\n",
      "art . 4 . la faltas sólo sólo se castigan delitos dolo consumadas , , , y los y por extranjeros . los . los sino y mal él distinta principio principio principio siempre siempre reputan en en la que por los pena su les el sí asignada de de escala general art . código . \n",
      "Temp 0.5\n",
      "art . 7 . la conspiración acción penal . omisión gravedad del crimen ley por , delito y y y por el la el la crimen y y frustrado cuando cuando el la de la ha reputan ejecución ejecución ejecución ejecución de , de su delincuente la agravarían omisiones consume casos el las a de principio da se . del ejecución ejecución . el tentativa todo ejecución ejecución la por , que ejecución que que se se , , , el el su culpable toda a la la la la de de este código principio principio cometer o o simple , el el pone pone hay su que que su que cuando cuando la ha conspiración hay delito simple un delito , , los , se , se , , voluntad mar en en en a u sí sí aquellas este código . art . 21 . \n",
      "Temp 1.0\n",
      "art . 6 . es y y sólo se penada , voluntaria simple penada delito . las sino las los de y malicia por ejecución ejecución delincuente principiar general o simple delito cuando autoridad especiales que de de este . \n",
      "21/21 [==============================] - 15s 730ms/step - loss: 1.2754\n",
      "Epoch 40/1000\n",
      "20/21 [===========================>..] - ETA: 0s - loss: 1.2494Temp 0.2\n",
      "art . 7 . la crímenes , sólo sólo el crimen o simple delito delito , , el frustrado y la la la hay crimen un simple delito , la la ejecución reputan incurrirá se se , de de antes antes a a según que iniciarse procedimiento procedimiento la . responsabilidad quedan adyacente caso será será tomarán las las en la o se que que que , , los , sino mal recaiga sobre recaiga de consideración se la voluntarias la en tales en en en en según está en en sometidos que las comete . código . \n",
      "Temp 0.33\n",
      "art . 8 . los delitos y es es voluntaria voluntaria los los . la , simples . y penan en tentativa las todo caso de la siempre siempre del del del o simple se se su , su su culpable faltan culpable y principio . personas se . la la la conspiración cometer resuelto crimen un simple delito delito , , , delincuente delincuente el su hay . pública que que la toda . \n",
      "Temp 0.5\n",
      "art . 9 . la ley u se delitos para aplicable malicia los república , , sólo son y penan en hay los cuando la u de culpable código ejecución ejecución ha existe del o simple delito su . \n",
      "Temp 1.0\n",
      "art . culpable . es conspiración su sólo el que voluntaria crímenes de ley simple , de , constituyen u hay simple u delito se . hechos hechos la de toda los ha pena crimen de crimen o simple se las ofender autoridad adyacente la éstos antes en ley se tales en de delito de de el el procedimiento territorial todos pública el consideración cometiere culpable según pública a que pena la las de la su cuando por por el y todo el distinta iniciarse delito simple delito proposición ejecución ejecución proposición siempre proposición por , de antes ofender , causas reputan cometiere iniciarse procedimiento e será les a denuncie incurrirá obra procedimiento por de contra por independientes que el pero o recaiga castigados el personas acciones por cuando todo otras especialmente conspiración conspiración conspiración un crimen un del simple simple . verifica su que la . proposición importarían tentativa conciertan el conspiración la . pena o o un simple simple delito . \n",
      "21/21 [==============================] - 19s 955ms/step - loss: 1.2617\n",
      "Epoch 41/1000\n",
      "20/21 [===========================>..] - ETA: 0s - loss: 1.1294Temp 0.2\n"
     ]
    },
    {
     "ename": "KeyboardInterrupt",
     "evalue": "",
     "output_type": "error",
     "traceback": [
      "\u001b[0;31m---------------------------------------------------------------------------\u001b[0m",
      "\u001b[0;31mKeyboardInterrupt\u001b[0m                         Traceback (most recent call last)",
      "\u001b[0;32m<ipython-input-19-ab9e6bd693fb>\u001b[0m in \u001b[0;36m<module>\u001b[0;34m\u001b[0m\n\u001b[1;32m     19\u001b[0m     \u001b[0mnum_batches\u001b[0m \u001b[0;34m=\u001b[0m \u001b[0mint\u001b[0m\u001b[0;34m(\u001b[0m\u001b[0mlen\u001b[0m\u001b[0;34m(\u001b[0m\u001b[0mX\u001b[0m\u001b[0;34m)\u001b[0m \u001b[0;34m/\u001b[0m \u001b[0mbatch_size\u001b[0m\u001b[0;34m)\u001b[0m\u001b[0;34m\u001b[0m\u001b[0;34m\u001b[0m\u001b[0m\n\u001b[1;32m     20\u001b[0m     \u001b[0mcallback\u001b[0m \u001b[0;34m=\u001b[0m \u001b[0mLambdaCallback\u001b[0m\u001b[0;34m(\u001b[0m\u001b[0mon_epoch_end\u001b[0m\u001b[0;34m=\u001b[0m\u001b[0mon_epoch_end\u001b[0m\u001b[0;34m)\u001b[0m\u001b[0;34m\u001b[0m\u001b[0;34m\u001b[0m\u001b[0m\n\u001b[0;32m---> 21\u001b[0;31m     \u001b[0mmodel\u001b[0m\u001b[0;34m.\u001b[0m\u001b[0mfit\u001b[0m\u001b[0;34m(\u001b[0m\u001b[0mX\u001b[0m\u001b[0;34m,\u001b[0m \u001b[0my\u001b[0m\u001b[0;34m,\u001b[0m \u001b[0mepochs\u001b[0m\u001b[0;34m=\u001b[0m\u001b[0mepochs\u001b[0m\u001b[0;34m,\u001b[0m \u001b[0mbatch_size\u001b[0m\u001b[0;34m=\u001b[0m\u001b[0mbatch_size\u001b[0m\u001b[0;34m,\u001b[0m \u001b[0mcallbacks\u001b[0m \u001b[0;34m=\u001b[0m \u001b[0;34m[\u001b[0m\u001b[0mcallback\u001b[0m\u001b[0;34m]\u001b[0m\u001b[0;34m,\u001b[0m \u001b[0mshuffle\u001b[0m \u001b[0;34m=\u001b[0m \u001b[0;32mTrue\u001b[0m\u001b[0;34m)\u001b[0m\u001b[0;34m\u001b[0m\u001b[0;34m\u001b[0m\u001b[0m\n\u001b[0m\u001b[1;32m     22\u001b[0m \u001b[0;34m\u001b[0m\u001b[0m\n\u001b[1;32m     23\u001b[0m \u001b[0;34m\u001b[0m\u001b[0m\n",
      "\u001b[0;32m/usr/local/lib/python3.8/dist-packages/keras/utils/traceback_utils.py\u001b[0m in \u001b[0;36merror_handler\u001b[0;34m(*args, **kwargs)\u001b[0m\n\u001b[1;32m     62\u001b[0m     \u001b[0mfiltered_tb\u001b[0m \u001b[0;34m=\u001b[0m \u001b[0;32mNone\u001b[0m\u001b[0;34m\u001b[0m\u001b[0;34m\u001b[0m\u001b[0m\n\u001b[1;32m     63\u001b[0m     \u001b[0;32mtry\u001b[0m\u001b[0;34m:\u001b[0m\u001b[0;34m\u001b[0m\u001b[0;34m\u001b[0m\u001b[0m\n\u001b[0;32m---> 64\u001b[0;31m       \u001b[0;32mreturn\u001b[0m \u001b[0mfn\u001b[0m\u001b[0;34m(\u001b[0m\u001b[0;34m*\u001b[0m\u001b[0margs\u001b[0m\u001b[0;34m,\u001b[0m \u001b[0;34m**\u001b[0m\u001b[0mkwargs\u001b[0m\u001b[0;34m)\u001b[0m\u001b[0;34m\u001b[0m\u001b[0;34m\u001b[0m\u001b[0m\n\u001b[0m\u001b[1;32m     65\u001b[0m     \u001b[0;32mexcept\u001b[0m \u001b[0mException\u001b[0m \u001b[0;32mas\u001b[0m \u001b[0me\u001b[0m\u001b[0;34m:\u001b[0m  \u001b[0;31m# pylint: disable=broad-except\u001b[0m\u001b[0;34m\u001b[0m\u001b[0;34m\u001b[0m\u001b[0m\n\u001b[1;32m     66\u001b[0m       \u001b[0mfiltered_tb\u001b[0m \u001b[0;34m=\u001b[0m \u001b[0m_process_traceback_frames\u001b[0m\u001b[0;34m(\u001b[0m\u001b[0me\u001b[0m\u001b[0;34m.\u001b[0m\u001b[0m__traceback__\u001b[0m\u001b[0;34m)\u001b[0m\u001b[0;34m\u001b[0m\u001b[0;34m\u001b[0m\u001b[0m\n",
      "\u001b[0;32m/usr/local/lib/python3.8/dist-packages/keras/engine/training.py\u001b[0m in \u001b[0;36mfit\u001b[0;34m(self, x, y, batch_size, epochs, verbose, callbacks, validation_split, validation_data, shuffle, class_weight, sample_weight, initial_epoch, steps_per_epoch, validation_steps, validation_batch_size, validation_freq, max_queue_size, workers, use_multiprocessing)\u001b[0m\n\u001b[1;32m   1265\u001b[0m           \u001b[0mepoch_logs\u001b[0m\u001b[0;34m.\u001b[0m\u001b[0mupdate\u001b[0m\u001b[0;34m(\u001b[0m\u001b[0mval_logs\u001b[0m\u001b[0;34m)\u001b[0m\u001b[0;34m\u001b[0m\u001b[0;34m\u001b[0m\u001b[0m\n\u001b[1;32m   1266\u001b[0m \u001b[0;34m\u001b[0m\u001b[0m\n\u001b[0;32m-> 1267\u001b[0;31m         \u001b[0mcallbacks\u001b[0m\u001b[0;34m.\u001b[0m\u001b[0mon_epoch_end\u001b[0m\u001b[0;34m(\u001b[0m\u001b[0mepoch\u001b[0m\u001b[0;34m,\u001b[0m \u001b[0mepoch_logs\u001b[0m\u001b[0;34m)\u001b[0m\u001b[0;34m\u001b[0m\u001b[0;34m\u001b[0m\u001b[0m\n\u001b[0m\u001b[1;32m   1268\u001b[0m         \u001b[0mtraining_logs\u001b[0m \u001b[0;34m=\u001b[0m \u001b[0mepoch_logs\u001b[0m\u001b[0;34m\u001b[0m\u001b[0;34m\u001b[0m\u001b[0m\n\u001b[1;32m   1269\u001b[0m         \u001b[0;32mif\u001b[0m \u001b[0mself\u001b[0m\u001b[0;34m.\u001b[0m\u001b[0mstop_training\u001b[0m\u001b[0;34m:\u001b[0m\u001b[0;34m\u001b[0m\u001b[0;34m\u001b[0m\u001b[0m\n",
      "\u001b[0;32m/usr/local/lib/python3.8/dist-packages/keras/callbacks.py\u001b[0m in \u001b[0;36mon_epoch_end\u001b[0;34m(self, epoch, logs)\u001b[0m\n\u001b[1;32m    412\u001b[0m     \u001b[0mlogs\u001b[0m \u001b[0;34m=\u001b[0m \u001b[0mself\u001b[0m\u001b[0;34m.\u001b[0m\u001b[0m_process_logs\u001b[0m\u001b[0;34m(\u001b[0m\u001b[0mlogs\u001b[0m\u001b[0;34m)\u001b[0m\u001b[0;34m\u001b[0m\u001b[0;34m\u001b[0m\u001b[0m\n\u001b[1;32m    413\u001b[0m     \u001b[0;32mfor\u001b[0m \u001b[0mcallback\u001b[0m \u001b[0;32min\u001b[0m \u001b[0mself\u001b[0m\u001b[0;34m.\u001b[0m\u001b[0mcallbacks\u001b[0m\u001b[0;34m:\u001b[0m\u001b[0;34m\u001b[0m\u001b[0;34m\u001b[0m\u001b[0m\n\u001b[0;32m--> 414\u001b[0;31m       \u001b[0mcallback\u001b[0m\u001b[0;34m.\u001b[0m\u001b[0mon_epoch_end\u001b[0m\u001b[0;34m(\u001b[0m\u001b[0mepoch\u001b[0m\u001b[0;34m,\u001b[0m \u001b[0mlogs\u001b[0m\u001b[0;34m)\u001b[0m\u001b[0;34m\u001b[0m\u001b[0;34m\u001b[0m\u001b[0m\n\u001b[0m\u001b[1;32m    415\u001b[0m \u001b[0;34m\u001b[0m\u001b[0m\n\u001b[1;32m    416\u001b[0m   \u001b[0;32mdef\u001b[0m \u001b[0mon_train_batch_begin\u001b[0m\u001b[0;34m(\u001b[0m\u001b[0mself\u001b[0m\u001b[0;34m,\u001b[0m \u001b[0mbatch\u001b[0m\u001b[0;34m,\u001b[0m \u001b[0mlogs\u001b[0m\u001b[0;34m=\u001b[0m\u001b[0;32mNone\u001b[0m\u001b[0;34m)\u001b[0m\u001b[0;34m:\u001b[0m\u001b[0;34m\u001b[0m\u001b[0;34m\u001b[0m\u001b[0m\n",
      "\u001b[0;32m<ipython-input-19-ab9e6bd693fb>\u001b[0m in \u001b[0;36mon_epoch_end\u001b[0;34m(epoch, logs)\u001b[0m\n\u001b[1;32m      4\u001b[0m \u001b[0;34m\u001b[0m\u001b[0m\n\u001b[1;32m      5\u001b[0m     \u001b[0mprint\u001b[0m\u001b[0;34m(\u001b[0m\u001b[0;34m'Temp 0.2'\u001b[0m\u001b[0;34m)\u001b[0m\u001b[0;34m\u001b[0m\u001b[0;34m\u001b[0m\u001b[0m\n\u001b[0;32m----> 6\u001b[0;31m     \u001b[0mprint\u001b[0m \u001b[0;34m(\u001b[0m\u001b[0mgenerate_text\u001b[0m\u001b[0;34m(\u001b[0m\u001b[0mseed_text\u001b[0m\u001b[0;34m,\u001b[0m \u001b[0mgen_words\u001b[0m\u001b[0;34m,\u001b[0m \u001b[0mmodel\u001b[0m\u001b[0;34m,\u001b[0m \u001b[0mseq_length\u001b[0m\u001b[0;34m,\u001b[0m \u001b[0mtemp\u001b[0m \u001b[0;34m=\u001b[0m \u001b[0;36m0.2\u001b[0m\u001b[0;34m)\u001b[0m\u001b[0;34m)\u001b[0m\u001b[0;34m\u001b[0m\u001b[0;34m\u001b[0m\u001b[0m\n\u001b[0m\u001b[1;32m      7\u001b[0m     \u001b[0mprint\u001b[0m\u001b[0;34m(\u001b[0m\u001b[0;34m'Temp 0.33'\u001b[0m\u001b[0;34m)\u001b[0m\u001b[0;34m\u001b[0m\u001b[0;34m\u001b[0m\u001b[0m\n\u001b[1;32m      8\u001b[0m     \u001b[0mprint\u001b[0m \u001b[0;34m(\u001b[0m\u001b[0mgenerate_text\u001b[0m\u001b[0;34m(\u001b[0m\u001b[0mseed_text\u001b[0m\u001b[0;34m,\u001b[0m \u001b[0mgen_words\u001b[0m\u001b[0;34m,\u001b[0m \u001b[0mmodel\u001b[0m\u001b[0;34m,\u001b[0m \u001b[0mseq_length\u001b[0m\u001b[0;34m,\u001b[0m \u001b[0mtemp\u001b[0m \u001b[0;34m=\u001b[0m \u001b[0;36m0.33\u001b[0m\u001b[0;34m)\u001b[0m\u001b[0;34m)\u001b[0m\u001b[0;34m\u001b[0m\u001b[0;34m\u001b[0m\u001b[0m\n",
      "\u001b[0;32m<ipython-input-18-707ad994a814>\u001b[0m in \u001b[0;36mgenerate_text\u001b[0;34m(seed_text, next_words, model, max_sequence_len, temp)\u001b[0m\n\u001b[1;32m     20\u001b[0m         \u001b[0mtoken_list\u001b[0m \u001b[0;34m=\u001b[0m \u001b[0mnp\u001b[0m\u001b[0;34m.\u001b[0m\u001b[0mreshape\u001b[0m\u001b[0;34m(\u001b[0m\u001b[0mtoken_list\u001b[0m\u001b[0;34m,\u001b[0m \u001b[0;34m(\u001b[0m\u001b[0;36m1\u001b[0m\u001b[0;34m,\u001b[0m \u001b[0mmax_sequence_len\u001b[0m\u001b[0;34m)\u001b[0m\u001b[0;34m)\u001b[0m\u001b[0;34m\u001b[0m\u001b[0;34m\u001b[0m\u001b[0m\n\u001b[1;32m     21\u001b[0m \u001b[0;34m\u001b[0m\u001b[0m\n\u001b[0;32m---> 22\u001b[0;31m         \u001b[0mprobs\u001b[0m \u001b[0;34m=\u001b[0m \u001b[0mmodel\u001b[0m\u001b[0;34m.\u001b[0m\u001b[0mpredict\u001b[0m\u001b[0;34m(\u001b[0m\u001b[0mtoken_list\u001b[0m\u001b[0;34m,\u001b[0m \u001b[0mverbose\u001b[0m\u001b[0;34m=\u001b[0m\u001b[0;36m0\u001b[0m\u001b[0;34m)\u001b[0m\u001b[0;34m[\u001b[0m\u001b[0;36m0\u001b[0m\u001b[0;34m]\u001b[0m\u001b[0;34m\u001b[0m\u001b[0;34m\u001b[0m\u001b[0m\n\u001b[0m\u001b[1;32m     23\u001b[0m         \u001b[0my_class\u001b[0m \u001b[0;34m=\u001b[0m \u001b[0msample_with_temp\u001b[0m\u001b[0;34m(\u001b[0m\u001b[0mprobs\u001b[0m\u001b[0;34m,\u001b[0m \u001b[0mtemperature\u001b[0m \u001b[0;34m=\u001b[0m \u001b[0mtemp\u001b[0m\u001b[0;34m)\u001b[0m\u001b[0;34m\u001b[0m\u001b[0;34m\u001b[0m\u001b[0m\n\u001b[1;32m     24\u001b[0m \u001b[0;34m\u001b[0m\u001b[0m\n",
      "\u001b[0;32m/usr/local/lib/python3.8/dist-packages/keras/utils/traceback_utils.py\u001b[0m in \u001b[0;36merror_handler\u001b[0;34m(*args, **kwargs)\u001b[0m\n\u001b[1;32m     62\u001b[0m     \u001b[0mfiltered_tb\u001b[0m \u001b[0;34m=\u001b[0m \u001b[0;32mNone\u001b[0m\u001b[0;34m\u001b[0m\u001b[0;34m\u001b[0m\u001b[0m\n\u001b[1;32m     63\u001b[0m     \u001b[0;32mtry\u001b[0m\u001b[0;34m:\u001b[0m\u001b[0;34m\u001b[0m\u001b[0;34m\u001b[0m\u001b[0m\n\u001b[0;32m---> 64\u001b[0;31m       \u001b[0;32mreturn\u001b[0m \u001b[0mfn\u001b[0m\u001b[0;34m(\u001b[0m\u001b[0;34m*\u001b[0m\u001b[0margs\u001b[0m\u001b[0;34m,\u001b[0m \u001b[0;34m**\u001b[0m\u001b[0mkwargs\u001b[0m\u001b[0;34m)\u001b[0m\u001b[0;34m\u001b[0m\u001b[0;34m\u001b[0m\u001b[0m\n\u001b[0m\u001b[1;32m     65\u001b[0m     \u001b[0;32mexcept\u001b[0m \u001b[0mException\u001b[0m \u001b[0;32mas\u001b[0m \u001b[0me\u001b[0m\u001b[0;34m:\u001b[0m  \u001b[0;31m# pylint: disable=broad-except\u001b[0m\u001b[0;34m\u001b[0m\u001b[0;34m\u001b[0m\u001b[0m\n\u001b[1;32m     66\u001b[0m       \u001b[0mfiltered_tb\u001b[0m \u001b[0;34m=\u001b[0m \u001b[0m_process_traceback_frames\u001b[0m\u001b[0;34m(\u001b[0m\u001b[0me\u001b[0m\u001b[0;34m.\u001b[0m\u001b[0m__traceback__\u001b[0m\u001b[0;34m)\u001b[0m\u001b[0;34m\u001b[0m\u001b[0;34m\u001b[0m\u001b[0m\n",
      "\u001b[0;32m/usr/local/lib/python3.8/dist-packages/keras/engine/training.py\u001b[0m in \u001b[0;36mpredict\u001b[0;34m(self, x, batch_size, verbose, steps, callbacks, max_queue_size, workers, use_multiprocessing)\u001b[0m\n\u001b[1;32m   1783\u001b[0m       \u001b[0mcallbacks\u001b[0m\u001b[0;34m.\u001b[0m\u001b[0mon_predict_begin\u001b[0m\u001b[0;34m(\u001b[0m\u001b[0;34m)\u001b[0m\u001b[0;34m\u001b[0m\u001b[0;34m\u001b[0m\u001b[0m\n\u001b[1;32m   1784\u001b[0m       \u001b[0mbatch_outputs\u001b[0m \u001b[0;34m=\u001b[0m \u001b[0;32mNone\u001b[0m\u001b[0;34m\u001b[0m\u001b[0;34m\u001b[0m\u001b[0m\n\u001b[0;32m-> 1785\u001b[0;31m       \u001b[0;32mfor\u001b[0m \u001b[0m_\u001b[0m\u001b[0;34m,\u001b[0m \u001b[0miterator\u001b[0m \u001b[0;32min\u001b[0m \u001b[0mdata_handler\u001b[0m\u001b[0;34m.\u001b[0m\u001b[0menumerate_epochs\u001b[0m\u001b[0;34m(\u001b[0m\u001b[0;34m)\u001b[0m\u001b[0;34m:\u001b[0m  \u001b[0;31m# Single epoch.\u001b[0m\u001b[0;34m\u001b[0m\u001b[0;34m\u001b[0m\u001b[0m\n\u001b[0m\u001b[1;32m   1786\u001b[0m         \u001b[0;32mwith\u001b[0m \u001b[0mdata_handler\u001b[0m\u001b[0;34m.\u001b[0m\u001b[0mcatch_stop_iteration\u001b[0m\u001b[0;34m(\u001b[0m\u001b[0;34m)\u001b[0m\u001b[0;34m:\u001b[0m\u001b[0;34m\u001b[0m\u001b[0;34m\u001b[0m\u001b[0m\n\u001b[1;32m   1787\u001b[0m           \u001b[0;32mfor\u001b[0m \u001b[0mstep\u001b[0m \u001b[0;32min\u001b[0m \u001b[0mdata_handler\u001b[0m\u001b[0;34m.\u001b[0m\u001b[0msteps\u001b[0m\u001b[0;34m(\u001b[0m\u001b[0;34m)\u001b[0m\u001b[0;34m:\u001b[0m\u001b[0;34m\u001b[0m\u001b[0;34m\u001b[0m\u001b[0m\n",
      "\u001b[0;32m/usr/local/lib/python3.8/dist-packages/keras/engine/data_adapter.py\u001b[0m in \u001b[0;36menumerate_epochs\u001b[0;34m(self)\u001b[0m\n\u001b[1;32m   1193\u001b[0m     \u001b[0;34m\"\"\"Yields `(epoch, tf.data.Iterator)`.\"\"\"\u001b[0m\u001b[0;34m\u001b[0m\u001b[0;34m\u001b[0m\u001b[0m\n\u001b[1;32m   1194\u001b[0m     \u001b[0;32mwith\u001b[0m \u001b[0mself\u001b[0m\u001b[0;34m.\u001b[0m\u001b[0m_truncate_execution_to_epoch\u001b[0m\u001b[0;34m(\u001b[0m\u001b[0;34m)\u001b[0m\u001b[0;34m:\u001b[0m\u001b[0;34m\u001b[0m\u001b[0;34m\u001b[0m\u001b[0m\n\u001b[0;32m-> 1195\u001b[0;31m       \u001b[0mdata_iterator\u001b[0m \u001b[0;34m=\u001b[0m \u001b[0miter\u001b[0m\u001b[0;34m(\u001b[0m\u001b[0mself\u001b[0m\u001b[0;34m.\u001b[0m\u001b[0m_dataset\u001b[0m\u001b[0;34m)\u001b[0m\u001b[0;34m\u001b[0m\u001b[0;34m\u001b[0m\u001b[0m\n\u001b[0m\u001b[1;32m   1196\u001b[0m       \u001b[0;32mfor\u001b[0m \u001b[0mepoch\u001b[0m \u001b[0;32min\u001b[0m \u001b[0mrange\u001b[0m\u001b[0;34m(\u001b[0m\u001b[0mself\u001b[0m\u001b[0;34m.\u001b[0m\u001b[0m_initial_epoch\u001b[0m\u001b[0;34m,\u001b[0m \u001b[0mself\u001b[0m\u001b[0;34m.\u001b[0m\u001b[0m_epochs\u001b[0m\u001b[0;34m)\u001b[0m\u001b[0;34m:\u001b[0m\u001b[0;34m\u001b[0m\u001b[0;34m\u001b[0m\u001b[0m\n\u001b[1;32m   1197\u001b[0m         \u001b[0;32mif\u001b[0m \u001b[0mself\u001b[0m\u001b[0;34m.\u001b[0m\u001b[0m_insufficient_data\u001b[0m\u001b[0;34m:\u001b[0m  \u001b[0;31m# Set by `catch_stop_iteration`.\u001b[0m\u001b[0;34m\u001b[0m\u001b[0;34m\u001b[0m\u001b[0m\n",
      "\u001b[0;32m/usr/local/lib/python3.8/dist-packages/tensorflow/python/data/ops/dataset_ops.py\u001b[0m in \u001b[0;36m__iter__\u001b[0;34m(self)\u001b[0m\n\u001b[1;32m    488\u001b[0m     \u001b[0;32mif\u001b[0m \u001b[0mcontext\u001b[0m\u001b[0;34m.\u001b[0m\u001b[0mexecuting_eagerly\u001b[0m\u001b[0;34m(\u001b[0m\u001b[0;34m)\u001b[0m \u001b[0;32mor\u001b[0m \u001b[0mops\u001b[0m\u001b[0;34m.\u001b[0m\u001b[0minside_function\u001b[0m\u001b[0;34m(\u001b[0m\u001b[0;34m)\u001b[0m\u001b[0;34m:\u001b[0m\u001b[0;34m\u001b[0m\u001b[0;34m\u001b[0m\u001b[0m\n\u001b[1;32m    489\u001b[0m       \u001b[0;32mwith\u001b[0m \u001b[0mops\u001b[0m\u001b[0;34m.\u001b[0m\u001b[0mcolocate_with\u001b[0m\u001b[0;34m(\u001b[0m\u001b[0mself\u001b[0m\u001b[0;34m.\u001b[0m\u001b[0m_variant_tensor\u001b[0m\u001b[0;34m)\u001b[0m\u001b[0;34m:\u001b[0m\u001b[0;34m\u001b[0m\u001b[0;34m\u001b[0m\u001b[0m\n\u001b[0;32m--> 490\u001b[0;31m         \u001b[0;32mreturn\u001b[0m \u001b[0miterator_ops\u001b[0m\u001b[0;34m.\u001b[0m\u001b[0mOwnedIterator\u001b[0m\u001b[0;34m(\u001b[0m\u001b[0mself\u001b[0m\u001b[0;34m)\u001b[0m\u001b[0;34m\u001b[0m\u001b[0;34m\u001b[0m\u001b[0m\n\u001b[0m\u001b[1;32m    491\u001b[0m     \u001b[0;32melse\u001b[0m\u001b[0;34m:\u001b[0m\u001b[0;34m\u001b[0m\u001b[0;34m\u001b[0m\u001b[0m\n\u001b[1;32m    492\u001b[0m       raise RuntimeError(\"`tf.data.Dataset` only supports Python-style \"\n",
      "\u001b[0;32m/usr/local/lib/python3.8/dist-packages/tensorflow/python/data/ops/iterator_ops.py\u001b[0m in \u001b[0;36m__init__\u001b[0;34m(self, dataset, components, element_spec)\u001b[0m\n\u001b[1;32m    724\u001b[0m             \u001b[0;34m\"When `dataset` is provided, `element_spec` and `components` must \"\u001b[0m\u001b[0;34m\u001b[0m\u001b[0;34m\u001b[0m\u001b[0m\n\u001b[1;32m    725\u001b[0m             \"not be specified.\")\n\u001b[0;32m--> 726\u001b[0;31m       \u001b[0mself\u001b[0m\u001b[0;34m.\u001b[0m\u001b[0m_create_iterator\u001b[0m\u001b[0;34m(\u001b[0m\u001b[0mdataset\u001b[0m\u001b[0;34m)\u001b[0m\u001b[0;34m\u001b[0m\u001b[0;34m\u001b[0m\u001b[0m\n\u001b[0m\u001b[1;32m    727\u001b[0m \u001b[0;34m\u001b[0m\u001b[0m\n\u001b[1;32m    728\u001b[0m     \u001b[0mself\u001b[0m\u001b[0;34m.\u001b[0m\u001b[0m_get_next_call_count\u001b[0m \u001b[0;34m=\u001b[0m \u001b[0;36m0\u001b[0m\u001b[0;34m\u001b[0m\u001b[0;34m\u001b[0m\u001b[0m\n",
      "\u001b[0;32m/usr/local/lib/python3.8/dist-packages/tensorflow/python/data/ops/iterator_ops.py\u001b[0m in \u001b[0;36m_create_iterator\u001b[0;34m(self, dataset)\u001b[0m\n\u001b[1;32m    749\u001b[0m               \u001b[0moutput_types\u001b[0m\u001b[0;34m=\u001b[0m\u001b[0mself\u001b[0m\u001b[0;34m.\u001b[0m\u001b[0m_flat_output_types\u001b[0m\u001b[0;34m,\u001b[0m\u001b[0;34m\u001b[0m\u001b[0;34m\u001b[0m\u001b[0m\n\u001b[1;32m    750\u001b[0m               output_shapes=self._flat_output_shapes))\n\u001b[0;32m--> 751\u001b[0;31m       \u001b[0mgen_dataset_ops\u001b[0m\u001b[0;34m.\u001b[0m\u001b[0mmake_iterator\u001b[0m\u001b[0;34m(\u001b[0m\u001b[0mds_variant\u001b[0m\u001b[0;34m,\u001b[0m \u001b[0mself\u001b[0m\u001b[0;34m.\u001b[0m\u001b[0m_iterator_resource\u001b[0m\u001b[0;34m)\u001b[0m\u001b[0;34m\u001b[0m\u001b[0;34m\u001b[0m\u001b[0m\n\u001b[0m\u001b[1;32m    752\u001b[0m       \u001b[0;31m# Delete the resource when this object is deleted\u001b[0m\u001b[0;34m\u001b[0m\u001b[0;34m\u001b[0m\u001b[0;34m\u001b[0m\u001b[0m\n\u001b[1;32m    753\u001b[0m       self._resource_deleter = IteratorResourceDeleter(\n",
      "\u001b[0;32m/usr/local/lib/python3.8/dist-packages/tensorflow/python/ops/gen_dataset_ops.py\u001b[0m in \u001b[0;36mmake_iterator\u001b[0;34m(dataset, iterator, name)\u001b[0m\n\u001b[1;32m   3235\u001b[0m   \u001b[0;32mif\u001b[0m \u001b[0mtld\u001b[0m\u001b[0;34m.\u001b[0m\u001b[0mis_eager\u001b[0m\u001b[0;34m:\u001b[0m\u001b[0;34m\u001b[0m\u001b[0;34m\u001b[0m\u001b[0m\n\u001b[1;32m   3236\u001b[0m     \u001b[0;32mtry\u001b[0m\u001b[0;34m:\u001b[0m\u001b[0;34m\u001b[0m\u001b[0;34m\u001b[0m\u001b[0m\n\u001b[0;32m-> 3237\u001b[0;31m       _result = pywrap_tfe.TFE_Py_FastPathExecute(\n\u001b[0m\u001b[1;32m   3238\u001b[0m         _ctx, \"MakeIterator\", name, dataset, iterator)\n\u001b[1;32m   3239\u001b[0m       \u001b[0;32mreturn\u001b[0m \u001b[0m_result\u001b[0m\u001b[0;34m\u001b[0m\u001b[0;34m\u001b[0m\u001b[0m\n",
      "\u001b[0;31mKeyboardInterrupt\u001b[0m: "
     ]
    }
   ],
   "source": [
    "def on_epoch_end(epoch, logs):\n",
    "    seed_text = \"\"\n",
    "    gen_words = 500\n",
    "\n",
    "    print('Temp 0.2')\n",
    "    print (generate_text(seed_text, gen_words, model, seq_length, temp = 0.2))\n",
    "    print('Temp 0.33')\n",
    "    print (generate_text(seed_text, gen_words, model, seq_length, temp = 0.33))\n",
    "    print('Temp 0.5')\n",
    "    print (generate_text(seed_text, gen_words, model, seq_length, temp = 0.5))\n",
    "    print('Temp 1.0')\n",
    "    print (generate_text(seed_text, gen_words, model, seq_length, temp = 1))\n",
    "\n",
    "    \n",
    "    \n",
    "if train_model:\n",
    "    epochs = 1000\n",
    "    batch_size = 64\n",
    "    num_batches = int(len(X) / batch_size)\n",
    "    callback = LambdaCallback(on_epoch_end=on_epoch_end)\n",
    "    model.fit(X, y, epochs=epochs, batch_size=batch_size, callbacks = [callback], shuffle = True)\n",
    "\n",
    "\n"
   ]
  },
  {
   "cell_type": "code",
   "execution_count": 20,
   "metadata": {},
   "outputs": [
    {
     "name": "stdout",
     "output_type": "stream",
     "text": [
      "Model: \"model\"\n",
      "_________________________________________________________________\n",
      "Layer (type)                 Output Shape              Param #   \n",
      "=================================================================\n",
      "input_1 (InputLayer)         [(None, None)]            0         \n",
      "_________________________________________________________________\n",
      "embedding (Embedding)        (None, None, 100)         20500     \n",
      "_________________________________________________________________\n",
      "lstm (LSTM)                  (None, 256)               365568    \n",
      "_________________________________________________________________\n",
      "dense (Dense)                (None, 205)               52685     \n",
      "=================================================================\n",
      "Total params: 438,753\n",
      "Trainable params: 438,753\n",
      "Non-trainable params: 0\n",
      "_________________________________________________________________\n"
     ]
    }
   ],
   "source": [
    "model.summary()"
   ]
  },
  {
   "cell_type": "code",
   "execution_count": 41,
   "metadata": {
    "scrolled": false
   },
   "outputs": [
    {
     "name": "stdout",
     "output_type": "stream",
     "text": [
      "cuando es penado un delito . 9 . las faltas sólo se castigan cuando han sido consumadas . las inclusos se cometidos el iniciarse a \n",
      "cuando es penado un delito . 3 . los delitos , atendida su gravedad , los cuasidelitos , simples delitos y crimen o . directos \n",
      "cuando es penado un delito . 3 . los delitos , atendida , gravedad , en crímenes , simples delitos y o obra obra califican \n"
     ]
    }
   ],
   "source": [
    "seed_text = \"cuando es penado un delito \"\n",
    "gen_words = 20\n",
    "temp = 1\n",
    "\n",
    "print (generate_text(seed_text, gen_words, model, seq_length, temp))\n",
    "print (generate_text(seed_text, gen_words, model, seq_length, temp))\n",
    "print (generate_text(seed_text, gen_words, model, seq_length, temp))"
   ]
  },
  {
   "cell_type": "markdown",
   "metadata": {},
   "source": [
    "## Guardar modelo"
   ]
  },
  {
   "cell_type": "code",
   "execution_count": 22,
   "metadata": {},
   "outputs": [],
   "source": [
    "model.save('./saved_models/prueba1.h5')"
   ]
  },
  {
   "cell_type": "markdown",
   "metadata": {},
   "source": [
    "## Generar secuencias para la generación de texto sintético a partir de un artículo"
   ]
  },
  {
   "cell_type": "code",
   "execution_count": 107,
   "metadata": {},
   "outputs": [
    {
     "name": "stdout",
     "output_type": "stream",
     "text": [
      "Number of sequences: 137 \n",
      "\n"
     ]
    }
   ],
   "source": [
    "def sequences_for_generation(token_list, step):\n",
    "    \n",
    "    X = []\n",
    "\n",
    "    for i in range(0, len(token_list) - seq_length, step):\n",
    "        X.append(token_list[i: i + seq_length])\n",
    "    \n",
    "    num_seq = len(X)\n",
    "    print('Number of sequences:', num_seq, \"\\n\")\n",
    "    \n",
    "    return X, num_seq\n",
    "\n",
    "step = 5\n",
    "seq_length = 5\n",
    "\n",
    "X, num_seq = sequences_for_generation(token_list, step)\n",
    "\n",
    "#X = np.array(X)"
   ]
  },
  {
   "cell_type": "code",
   "execution_count": 52,
   "metadata": {},
   "outputs": [
    {
     "name": "stdout",
     "output_type": "stream",
     "text": [
      "[1, 1, 1, 1, 1, 1, 1, 1, 1, 1, 1, 1, 1, 1, 1, 1, 1, 1, 1, 1, 12, 2, 64, 2, 32, 9, 38, 65, 28, 66, 67, 68, 13, 3, 21, 2, 19, 39, 28, 40, 69, 13, 3, 21, 10, 70, 71, 72, 4, 15, 22, 73, 6, 74, 41, 75, 2, 8, 6, 76, 9, 77, 78, 7, 79, 80, 81, 11, 3, 29, 6, 3, 21, 82, 4, 83, 8, 84, 85, 86, 87, 88, 7, 89, 15, 90, 10, 91, 92, 2, 11, 42, 93, 22, 10, 94, 11, 95, 19, 43, 4, 22, 96, 13, 8, 44, 4, 6, 97, 23, 98, 99, 45, 100, 101, 6, 3, 102, 2, 1, 1, 1, 1, 1, 1, 1, 1, 1, 1, 1, 1, 1, 1, 1, 1, 1, 1, 1, 1, 12, 2, 103, 2, 19, 39, 28, 40, 6, 104, 46, 105, 5, 106, 107, 20, 9, 4, 108, 109, 110, 30, 33, 111, 11, 8, 6, 19, 112, 2, 1, 1, 1, 1, 1, 1, 1, 1, 1, 1, 1, 1, 1, 1, 1, 1, 1, 1, 1, 1, 12, 2, 113, 2, 14, 25, 4, 114, 23, 115, 4, 10, 116, 11, 47, 4, 48, 25, 16, 49, 16, 10, 50, 7, 117, 118, 3, 29, 6, 119, 120, 121, 11, 3, 122, 123, 26, 12, 2, 124, 2, 1, 1, 1, 1, 1, 1, 1, 1, 1, 1, 1, 1, 1, 1, 1, 1, 1, 1, 1, 1, 12, 2, 125, 2, 3, 126, 7, 14, 25, 32, 127, 15, 14, 128, 4, 6, 10, 50, 16, 129, 11, 14, 34, 130, 6, 131, 51, 52, 2, 1, 1, 1, 1, 1, 1, 1, 1, 1, 1, 1, 1, 1, 1, 1, 1, 1, 1, 1, 1, 12, 2, 132, 2, 3, 21, 133, 134, 32, 135, 24, 136, 14, 137, 7, 3, 53, 4, 138, 14, 54, 2, 14, 25, 139, 140, 26, 141, 142, 5, 143, 144, 145, 15, 19, 146, 7, 51, 52, 2, 1, 1, 1, 1, 1, 1, 1, 1, 1, 1, 1, 1, 1, 1, 1, 1, 1, 1, 1, 1, 12, 2, 147, 2, 14, 47, 5, 48, 25, 148, 149, 26, 150, 7, 3, 53, 13, 151, 5, 13, 54, 4, 22, 152, 153, 11, 154, 55, 11, 14, 34, 155, 13, 3, 21, 2, 1, 1, 1, 1, 1, 1, 1, 1, 1, 1, 1, 1, 1, 1, 1, 1, 1, 1, 1, 1, 12, 2, 156, 2, 56, 57, 4, 22, 30, 8, 17, 5, 18, 9, 157, 4, 55, 8, 58, 16, 3, 59, 2, 33, 17, 5, 18, 9, 58, 27, 8, 44, 158, 7, 23, 159, 160, 41, 161, 24, 6, 8, 17, 5, 18, 9, 10, 162, 16, 163, 22, 10, 60, 13, 164, 165, 7, 23, 166, 2, 33, 59, 27, 8, 61, 167, 168, 15, 3, 31, 26, 17, 5, 18, 9, 13, 169, 170, 4, 45, 171, 172, 5, 62, 24, 23, 173, 2, 1, 1, 1, 1, 1, 1, 1, 1, 1, 1, 1, 1, 1, 1, 1, 1, 1, 1, 1, 1, 12, 2, 174, 2, 3, 35, 16, 36, 24, 37, 20, 17, 5, 20, 18, 9, 4, 30, 56, 57, 11, 14, 34, 11, 6, 3, 21, 19, 29, 175, 2, 3, 35, 176, 27, 177, 5, 62, 63, 10, 178, 24, 3, 31, 26, 17, 5, 18, 9, 2, 3, 36, 10, 60, 27, 8, 6, 179, 180, 37, 20, 17, 5, 20, 18, 9, 4, 181, 23, 31, 15, 182, 28, 183, 63, 2, 184, 7, 38, 29, 13, 3, 35, 5, 36, 24, 37, 20, 17, 5, 20, 18, 9, 4, 8, 185, 7, 3, 31, 7, 186, 187, 7, 188, 15, 189, 13, 190, 16, 7, 191, 192, 193, 194, 8, 61, 4, 46, 42, 6, 195, 15, 3, 196, 197, 8, 198, 16, 199, 43, 2, 1, 1, 1, 1, 1, 1, 1, 1, 1, 1, 1, 1, 1, 1, 1, 1, 1, 1, 1, 1, 12, 2, 200, 2, 19, 49, 30, 10, 201, 27, 202, 203, 204, 2]\n"
     ]
    }
   ],
   "source": [
    "print(token_list)"
   ]
  },
  {
   "cell_type": "code",
   "execution_count": 94,
   "metadata": {},
   "outputs": [],
   "source": [
    "c = 0\n",
    "i = 0\n",
    "while c < 7:\n",
    "    pos = token_list[i:].index(1)\n",
    "    c = c + 1\n",
    "    i = i + pos + 20"
   ]
  },
  {
   "cell_type": "code",
   "execution_count": 100,
   "metadata": {},
   "outputs": [],
   "source": [
    "end7 = i + token_list[i:].index(1)"
   ]
  },
  {
   "cell_type": "code",
   "execution_count": 116,
   "metadata": {},
   "outputs": [
    {
     "name": "stdout",
     "output_type": "stream",
     "text": [
      "Number of sequences: 17 \n",
      "\n"
     ]
    }
   ],
   "source": [
    "seq, seq_n = sequences_for_generation([list(t.keys())[list(t.values()).index(x)] for x in token_list[i:end7]], step)"
   ]
  },
  {
   "cell_type": "code",
   "execution_count": 117,
   "metadata": {},
   "outputs": [
    {
     "data": {
      "text/plain": [
       "['art . 7 . son',\n",
       " 'punibles , no sólo el',\n",
       " 'crimen o simple delito consumado',\n",
       " ', sino el frustrado y',\n",
       " 'la tentativa . hay crimen',\n",
       " 'o simple delito frustrado cuando',\n",
       " 'el delincuente pone de su',\n",
       " 'parte todo lo necesario para',\n",
       " 'que el crimen o simple',\n",
       " 'delito se consume y esto',\n",
       " 'no se verifica por causas',\n",
       " 'independientes de su voluntad .',\n",
       " 'hay tentativa cuando el culpable',\n",
       " 'da principio a la ejecución',\n",
       " 'del crimen o simple delito',\n",
       " 'por hechos directos , pero',\n",
       " 'faltan uno o más para']"
      ]
     },
     "execution_count": 117,
     "metadata": {},
     "output_type": "execute_result"
    }
   ],
   "source": [
    "[' '.join(x) for x in seq]"
   ]
  },
  {
   "cell_type": "code",
   "execution_count": 153,
   "metadata": {},
   "outputs": [
    {
     "name": "stdout",
     "output_type": "stream",
     "text": [
      "Number of sequences: 14 \n",
      "\n"
     ]
    }
   ],
   "source": [
    "seq_length = 5\n",
    "seq, seq_n = sequences_for_generation([list(t.keys())[list(t.values()).index(x)] for x in art1], 5)"
   ]
  },
  {
   "cell_type": "code",
   "execution_count": 154,
   "metadata": {},
   "outputs": [
    {
     "data": {
      "text/plain": [
       "[['art', '.', '1', '.', 'es'],\n",
       " ['delito', 'toda', 'acción', 'u', 'omisión'],\n",
       " ['voluntaria', 'penada', 'por', 'la', 'ley'],\n",
       " ['.', 'las', 'acciones', 'u', 'omisiones'],\n",
       " ['penadas', 'por', 'la', 'ley', 'se'],\n",
       " ['reputan', 'siempre', 'voluntarias', ',', 'a'],\n",
       " ['no', 'ser', 'que', 'conste', 'lo'],\n",
       " ['contrario', '.', 'el', 'que', 'cometiere'],\n",
       " ['delito', 'será', 'responsable', 'de', 'él'],\n",
       " ['e', 'incurrirá', 'en', 'la', 'pena'],\n",
       " ['que', 'la', 'ley', 'señale', ','],\n",
       " ['aunque', 'el', 'mal', 'recaiga', 'sobre'],\n",
       " ['persona', 'distinta', 'de', 'aquella', 'a'],\n",
       " ['quien', 'se', 'proponía', 'ofender', '.']]"
      ]
     },
     "execution_count": 154,
     "metadata": {},
     "output_type": "execute_result"
    }
   ],
   "source": [
    "seq"
   ]
  },
  {
   "cell_type": "code",
   "execution_count": 155,
   "metadata": {},
   "outputs": [
    {
     "data": {
      "text/plain": [
       "['art . 1 . es',\n",
       " 'delito toda acción u omisión',\n",
       " 'voluntaria penada por la ley',\n",
       " '. las acciones u omisiones',\n",
       " 'penadas por la ley se',\n",
       " 'reputan siempre voluntarias , a',\n",
       " 'no ser que conste lo',\n",
       " 'contrario . el que cometiere',\n",
       " 'delito será responsable de él',\n",
       " 'e incurrirá en la pena',\n",
       " 'que la ley señale ,',\n",
       " 'aunque el mal recaiga sobre',\n",
       " 'persona distinta de aquella a',\n",
       " 'quien se proponía ofender .']"
      ]
     },
     "execution_count": 155,
     "metadata": {},
     "output_type": "execute_result"
    }
   ],
   "source": [
    "[' '.join(x) for x in seq]"
   ]
  },
  {
   "cell_type": "markdown",
   "metadata": {},
   "source": [
    "## Generación de texto sintético a partir de artículos del código penal vigente de Chile"
   ]
  },
  {
   "cell_type": "code",
   "execution_count": 54,
   "metadata": {},
   "outputs": [],
   "source": [
    "art1 = ['art . 1 . es',\n",
    " 'delito toda acción u omisión',\n",
    " 'voluntaria penada por la ley',\n",
    " '. las acciones u omisiones',\n",
    " 'penadas por la ley se',\n",
    " 'reputan siempre voluntarias , a',\n",
    " 'no ser que conste lo',\n",
    " 'contrario . el que cometiere',\n",
    " 'delito será responsable de él',\n",
    " 'e incurrirá en la pena',\n",
    " 'que la ley señale ,',\n",
    " 'aunque el mal recaiga sobre',\n",
    " 'persona distinta de aquella a',\n",
    " 'quien se proponía ofender .']\n",
    "art7 = ['art . 7 . son',\n",
    " 'punibles , no sólo el',\n",
    " 'crimen o simple delito consumado',\n",
    " ', sino el frustrado y',\n",
    " 'la tentativa . hay crimen',\n",
    " 'o simple delito frustrado cuando',\n",
    " 'el delincuente pone de su',\n",
    " 'parte todo lo necesario para',\n",
    " 'que el crimen o simple',\n",
    " 'delito se consume y esto',\n",
    " 'no se verifica por causas',\n",
    " 'independientes de su voluntad .',\n",
    " 'hay tentativa cuando el culpable',\n",
    " 'da principio a la ejecución',\n",
    " 'del crimen o simple delito',\n",
    " 'por hechos directos , pero',\n",
    " 'faltan uno o más para']"
   ]
  },
  {
   "cell_type": "code",
   "execution_count": 44,
   "metadata": {},
   "outputs": [
    {
     "name": "stdout",
     "output_type": "stream",
     "text": [
      "- art . 1 . esdelito es delito toda acción u omisión voluntaria penada por la ley . las acciones u omisiones penadas por la \n",
      "- delito toda acción u omisiónfaltas las faltas sólo se castigan cuando han sido consumadas . las acciones . las delincuente el responsabilidad responsabilidad quedan \n",
      "- voluntaria penada por la ley. . la ley penal chilena es obligatoria para todos los habitantes de la república , inclusos lo ser de \n",
      "- . las acciones u omisiones. 1 . es delito toda acción u omisión voluntaria penada por la república por acciones u contrario por no \n",
      "- penadas por la ley sees . la conspiración y proposición para cometer un crimen o un simple delito , sólo son la la éstos \n",
      "- reputan siempre voluntarias , au acciones u omisiones que cometidas con dolo o malicia importarían un delito , constituyen , chile ; pero el \n",
      "- no ser que conste loes . es delito toda acción u omisión voluntaria penada por la república por acciones u omisiones que la la \n",
      "- contrario . el que cometiere. la ley penal chilena es obligatoria para todos los habitantes de la república , inclusos los procedimiento los delitos \n",
      "- delito será responsable de élla . la conspiración y proposición crimen o crimen o simple delito consumado , el frustrado y todo todo cuando \n",
      "- e incurrirá en la penala . la ley penal chilena es obligatoria para todos los habitantes de la república inclusos los principio obra conocidas \n",
      "- que la ley señale ,. . la división de los delitos es aplicable a los cuasidelitos , que califican califican se pena que la \n",
      "- aunque el mal recaiga sobre. . 1 . es delito para acción cuando han sido consumadas . las acciones , y por la pena \n",
      "- persona distinta de aquella a. . la ley penal chilena es obligatoria para todos los habitantes de la república , inclusos . obra . \n",
      "- quien se proponía ofender .los . los crímenes o simples delitos perpetrados fuera del territorio de la república por chilenos omisiones mal delincuente , \n"
     ]
    }
   ],
   "source": [
    "for seed in art1:\n",
    "    print ('- ' + generate_text(seed, gen_words, model, seq_length, temp))"
   ]
  },
  {
   "cell_type": "code",
   "execution_count": 46,
   "metadata": {},
   "outputs": [
    {
     "name": "stdout",
     "output_type": "stream",
     "text": [
      "- art . 7 . sonpunibles son punibles , no sólo el crimen o simple delito consumado , sino el frustrado y la tentativa . \n",
      "- punibles , no sólo el. 8 . la conspiración y proposición para cometer un crimen o un simple delito , son crimen delito , \n",
      "- crimen o simple delito consumado5 . 9 . las faltas sólo se castigan cuando han sido consumadas . las acciones , ley procedimiento independientes \n",
      "- , sino el frustrado yes . los delitos , atendida su gravedad , se dividen en crímenes , simples delitos y del distinta califican \n",
      "- la tentativa . hay crimenla . la conspiración y proposición para cometer un crimen o un simple delito , frustrado y en en los \n",
      "- o simple delito frustrado cuando. 9 . las faltas sólo se castigan cuando han sido consumadas . las acciones y , aunque sobre él \n",
      "- el delincuente pone de su9 . 7 . son punibles , no sólo el simple delito consumado , sino el frustrado cuando frustrado cuando \n",
      "- parte todo lo necesario paralos . los crímenes o simples delitos perpetrados fuera del territorio de la república por y por independientes de , \n",
      "- que el crimen o simplela . 4 . la ley penal chilena es obligatoria para todos de la república , e crimen o simple \n",
      "- delito se consume y estoacciones es delito toda acción u omisión voluntaria penada por la ley . las acciones , procedimiento iniciarse iniciarse a \n",
      "- no se verifica por causasla . la división de los delitos es aplicable a los cuasidelitos , que califican y penan tal caso . \n",
      "- independientes de su voluntad .los . la ley penal chilena es obligatoria para todos los habitantes de de república , inclusos por por por \n",
      "- hay tentativa cuando el culpablela . la ley de los delitos es aplicable los cuasidelitos , que se califican y penan faltan uno \n",
      "- da principio a la ejecuciónla . la conspiración y proposición para cometer un crimen o un simple delito , sólo o necesario . ejecución \n",
      "- del crimen o simple delito. art . 7 . son punibles sólo el crimen o simple delito consumado , sino el cuando el verifica \n",
      "- por hechos directos , pero2 . 9 . las faltas sólo se castigan cuando han sido consumadas . las acciones y sobre delitos delitos \n",
      "- faltan uno o más para. . 3 . los delitos , atendida su gravedad , en crímenes , sino el frustrado simple delito , \n"
     ]
    }
   ],
   "source": [
    "for seed in art7:\n",
    "    print ('- ' + generate_text(seed, gen_words, model, seq_length, temp))"
   ]
  }
 ],
 "metadata": {
  "kernelspec": {
   "display_name": "Python 3",
   "language": "python",
   "name": "python3"
  },
  "language_info": {
   "codemirror_mode": {
    "name": "ipython",
    "version": 3
   },
   "file_extension": ".py",
   "mimetype": "text/x-python",
   "name": "python",
   "nbconvert_exporter": "python",
   "pygments_lexer": "ipython3",
   "version": "3.8.10"
  }
 },
 "nbformat": 4,
 "nbformat_minor": 2
}
